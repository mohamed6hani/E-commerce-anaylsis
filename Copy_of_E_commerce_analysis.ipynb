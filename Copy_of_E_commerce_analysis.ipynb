{
  "cells": [
    {
      "cell_type": "code",
      "execution_count": null,
      "id": "bf87f415",
      "metadata": {
        "id": "bf87f415"
      },
      "outputs": [],
      "source": [
        "import pandas as pd\n",
        "import matplotlib as plt"
      ]
    },
    {
      "cell_type": "markdown",
      "source": [
        "read file\n"
      ],
      "metadata": {
        "id": "3cXPmviJBl6Q"
      },
      "id": "3cXPmviJBl6Q"
    },
    {
      "cell_type": "code",
      "source": [
        "df = pd.read_csv('combined_datasets.csv')"
      ],
      "metadata": {
        "id": "AUi-bB6YBjz-"
      },
      "id": "AUi-bB6YBjz-",
      "execution_count": null,
      "outputs": []
    },
    {
      "cell_type": "markdown",
      "source": [
        "display records"
      ],
      "metadata": {
        "id": "Y9RGGRyrB4KO"
      },
      "id": "Y9RGGRyrB4KO"
    },
    {
      "cell_type": "code",
      "source": [
        "df.head(5)"
      ],
      "metadata": {
        "id": "IzW4boPZB3gv",
        "outputId": "17755b4c-86e5-4cac-c43f-58d814981662",
        "colab": {
          "base_uri": "https://localhost:8080/",
          "height": 354
        }
      },
      "id": "IzW4boPZB3gv",
      "execution_count": null,
      "outputs": [
        {
          "output_type": "execute_result",
          "data": {
            "text/plain": [
              "   Unnamed: 0        category  \\\n",
              "0           0  Athletic Shoes   \n",
              "1           1  Athletic Shoes   \n",
              "2           2  Athletic Shoes   \n",
              "3           3  Athletic Shoes   \n",
              "4           4  Athletic Shoes   \n",
              "\n",
              "                                             product  Original_price   price  \\\n",
              "0  Nike SB Check Solar Cnvs Skateboarding Shoes f...           299.0  211.48   \n",
              "1  Nike Md Runner 2 Two-Tone Textile-Mesh Suede-A...           349.0  289.99   \n",
              "2  Nike air Heights Sneaker for Women , Size 38 E...           419.0  337.48   \n",
              "3         Nike Fitness Shoes For Men , 43 EU , Black           319.0  211.48   \n",
              "4  adidas ASWEERUN Sneaker for Mens, Grey - Size ...           259.0  194.99   \n",
              "\n",
              "   perc_of_unit_sold  rating                shpping_rate gender  \n",
              "0               94.0   100.0               FREE Shipping    men  \n",
              "1               80.0    88.0               FREE Shipping    men  \n",
              "2               77.0     NaN               FREE Shipping  women  \n",
              "3               76.0    80.0               FREE Shipping    men  \n",
              "4               94.0     NaN  Eligible for FREE Shipping    men  "
            ],
            "text/html": [
              "\n",
              "  <div id=\"df-969a0608-39fa-43e2-8e26-f41765653afe\">\n",
              "    <div class=\"colab-df-container\">\n",
              "      <div>\n",
              "<style scoped>\n",
              "    .dataframe tbody tr th:only-of-type {\n",
              "        vertical-align: middle;\n",
              "    }\n",
              "\n",
              "    .dataframe tbody tr th {\n",
              "        vertical-align: top;\n",
              "    }\n",
              "\n",
              "    .dataframe thead th {\n",
              "        text-align: right;\n",
              "    }\n",
              "</style>\n",
              "<table border=\"1\" class=\"dataframe\">\n",
              "  <thead>\n",
              "    <tr style=\"text-align: right;\">\n",
              "      <th></th>\n",
              "      <th>Unnamed: 0</th>\n",
              "      <th>category</th>\n",
              "      <th>product</th>\n",
              "      <th>Original_price</th>\n",
              "      <th>price</th>\n",
              "      <th>perc_of_unit_sold</th>\n",
              "      <th>rating</th>\n",
              "      <th>shpping_rate</th>\n",
              "      <th>gender</th>\n",
              "    </tr>\n",
              "  </thead>\n",
              "  <tbody>\n",
              "    <tr>\n",
              "      <th>0</th>\n",
              "      <td>0</td>\n",
              "      <td>Athletic Shoes</td>\n",
              "      <td>Nike SB Check Solar Cnvs Skateboarding Shoes f...</td>\n",
              "      <td>299.0</td>\n",
              "      <td>211.48</td>\n",
              "      <td>94.0</td>\n",
              "      <td>100.0</td>\n",
              "      <td>FREE Shipping</td>\n",
              "      <td>men</td>\n",
              "    </tr>\n",
              "    <tr>\n",
              "      <th>1</th>\n",
              "      <td>1</td>\n",
              "      <td>Athletic Shoes</td>\n",
              "      <td>Nike Md Runner 2 Two-Tone Textile-Mesh Suede-A...</td>\n",
              "      <td>349.0</td>\n",
              "      <td>289.99</td>\n",
              "      <td>80.0</td>\n",
              "      <td>88.0</td>\n",
              "      <td>FREE Shipping</td>\n",
              "      <td>men</td>\n",
              "    </tr>\n",
              "    <tr>\n",
              "      <th>2</th>\n",
              "      <td>2</td>\n",
              "      <td>Athletic Shoes</td>\n",
              "      <td>Nike air Heights Sneaker for Women , Size 38 E...</td>\n",
              "      <td>419.0</td>\n",
              "      <td>337.48</td>\n",
              "      <td>77.0</td>\n",
              "      <td>NaN</td>\n",
              "      <td>FREE Shipping</td>\n",
              "      <td>women</td>\n",
              "    </tr>\n",
              "    <tr>\n",
              "      <th>3</th>\n",
              "      <td>3</td>\n",
              "      <td>Athletic Shoes</td>\n",
              "      <td>Nike Fitness Shoes For Men , 43 EU , Black</td>\n",
              "      <td>319.0</td>\n",
              "      <td>211.48</td>\n",
              "      <td>76.0</td>\n",
              "      <td>80.0</td>\n",
              "      <td>FREE Shipping</td>\n",
              "      <td>men</td>\n",
              "    </tr>\n",
              "    <tr>\n",
              "      <th>4</th>\n",
              "      <td>4</td>\n",
              "      <td>Athletic Shoes</td>\n",
              "      <td>adidas ASWEERUN Sneaker for Mens, Grey - Size ...</td>\n",
              "      <td>259.0</td>\n",
              "      <td>194.99</td>\n",
              "      <td>94.0</td>\n",
              "      <td>NaN</td>\n",
              "      <td>Eligible for FREE Shipping</td>\n",
              "      <td>men</td>\n",
              "    </tr>\n",
              "  </tbody>\n",
              "</table>\n",
              "</div>\n",
              "      <button class=\"colab-df-convert\" onclick=\"convertToInteractive('df-969a0608-39fa-43e2-8e26-f41765653afe')\"\n",
              "              title=\"Convert this dataframe to an interactive table.\"\n",
              "              style=\"display:none;\">\n",
              "        \n",
              "  <svg xmlns=\"http://www.w3.org/2000/svg\" height=\"24px\"viewBox=\"0 0 24 24\"\n",
              "       width=\"24px\">\n",
              "    <path d=\"M0 0h24v24H0V0z\" fill=\"none\"/>\n",
              "    <path d=\"M18.56 5.44l.94 2.06.94-2.06 2.06-.94-2.06-.94-.94-2.06-.94 2.06-2.06.94zm-11 1L8.5 8.5l.94-2.06 2.06-.94-2.06-.94L8.5 2.5l-.94 2.06-2.06.94zm10 10l.94 2.06.94-2.06 2.06-.94-2.06-.94-.94-2.06-.94 2.06-2.06.94z\"/><path d=\"M17.41 7.96l-1.37-1.37c-.4-.4-.92-.59-1.43-.59-.52 0-1.04.2-1.43.59L10.3 9.45l-7.72 7.72c-.78.78-.78 2.05 0 2.83L4 21.41c.39.39.9.59 1.41.59.51 0 1.02-.2 1.41-.59l7.78-7.78 2.81-2.81c.8-.78.8-2.07 0-2.86zM5.41 20L4 18.59l7.72-7.72 1.47 1.35L5.41 20z\"/>\n",
              "  </svg>\n",
              "      </button>\n",
              "      \n",
              "  <style>\n",
              "    .colab-df-container {\n",
              "      display:flex;\n",
              "      flex-wrap:wrap;\n",
              "      gap: 12px;\n",
              "    }\n",
              "\n",
              "    .colab-df-convert {\n",
              "      background-color: #E8F0FE;\n",
              "      border: none;\n",
              "      border-radius: 50%;\n",
              "      cursor: pointer;\n",
              "      display: none;\n",
              "      fill: #1967D2;\n",
              "      height: 32px;\n",
              "      padding: 0 0 0 0;\n",
              "      width: 32px;\n",
              "    }\n",
              "\n",
              "    .colab-df-convert:hover {\n",
              "      background-color: #E2EBFA;\n",
              "      box-shadow: 0px 1px 2px rgba(60, 64, 67, 0.3), 0px 1px 3px 1px rgba(60, 64, 67, 0.15);\n",
              "      fill: #174EA6;\n",
              "    }\n",
              "\n",
              "    [theme=dark] .colab-df-convert {\n",
              "      background-color: #3B4455;\n",
              "      fill: #D2E3FC;\n",
              "    }\n",
              "\n",
              "    [theme=dark] .colab-df-convert:hover {\n",
              "      background-color: #434B5C;\n",
              "      box-shadow: 0px 1px 3px 1px rgba(0, 0, 0, 0.15);\n",
              "      filter: drop-shadow(0px 1px 2px rgba(0, 0, 0, 0.3));\n",
              "      fill: #FFFFFF;\n",
              "    }\n",
              "  </style>\n",
              "\n",
              "      <script>\n",
              "        const buttonEl =\n",
              "          document.querySelector('#df-969a0608-39fa-43e2-8e26-f41765653afe button.colab-df-convert');\n",
              "        buttonEl.style.display =\n",
              "          google.colab.kernel.accessAllowed ? 'block' : 'none';\n",
              "\n",
              "        async function convertToInteractive(key) {\n",
              "          const element = document.querySelector('#df-969a0608-39fa-43e2-8e26-f41765653afe');\n",
              "          const dataTable =\n",
              "            await google.colab.kernel.invokeFunction('convertToInteractive',\n",
              "                                                     [key], {});\n",
              "          if (!dataTable) return;\n",
              "\n",
              "          const docLinkHtml = 'Like what you see? Visit the ' +\n",
              "            '<a target=\"_blank\" href=https://colab.research.google.com/notebooks/data_table.ipynb>data table notebook</a>'\n",
              "            + ' to learn more about interactive tables.';\n",
              "          element.innerHTML = '';\n",
              "          dataTable['output_type'] = 'display_data';\n",
              "          await google.colab.output.renderOutput(dataTable, element);\n",
              "          const docLink = document.createElement('div');\n",
              "          docLink.innerHTML = docLinkHtml;\n",
              "          element.appendChild(docLink);\n",
              "        }\n",
              "      </script>\n",
              "    </div>\n",
              "  </div>\n",
              "  "
            ]
          },
          "metadata": {},
          "execution_count": 14
        }
      ]
    },
    {
      "cell_type": "markdown",
      "source": [
        "display the shape and the size of the table"
      ],
      "metadata": {
        "id": "8aPQu4LgCQ87"
      },
      "id": "8aPQu4LgCQ87"
    },
    {
      "cell_type": "code",
      "source": [
        "df.shape"
      ],
      "metadata": {
        "id": "fTxdarGACVcn",
        "outputId": "1061a771-7095-4891-a90a-1d762444bc94",
        "colab": {
          "base_uri": "https://localhost:8080/"
        }
      },
      "id": "fTxdarGACVcn",
      "execution_count": null,
      "outputs": [
        {
          "output_type": "execute_result",
          "data": {
            "text/plain": [
              "(609, 9)"
            ]
          },
          "metadata": {},
          "execution_count": 15
        }
      ]
    },
    {
      "cell_type": "markdown",
      "source": [
        "size"
      ],
      "metadata": {
        "id": "Z2DS3iKHCf1j"
      },
      "id": "Z2DS3iKHCf1j"
    },
    {
      "cell_type": "code",
      "source": [
        "df.size"
      ],
      "metadata": {
        "id": "U6hensLvCe3f",
        "outputId": "e452c8e3-ab0b-49a8-b8da-5ed47c29fa29",
        "colab": {
          "base_uri": "https://localhost:8080/"
        }
      },
      "id": "U6hensLvCe3f",
      "execution_count": null,
      "outputs": [
        {
          "output_type": "execute_result",
          "data": {
            "text/plain": [
              "5481"
            ]
          },
          "metadata": {},
          "execution_count": 16
        }
      ]
    },
    {
      "cell_type": "markdown",
      "source": [
        "pick the price column and choose a random sample of 200 elements then plot the sample"
      ],
      "metadata": {
        "id": "6bEMlmmCEFKl"
      },
      "id": "6bEMlmmCEFKl"
    },
    {
      "cell_type": "code",
      "source": [
        "price = df['price']\n",
        "len(price)"
      ],
      "metadata": {
        "id": "U-El88AHEDUC",
        "outputId": "25bad0d8-5171-4197-c60e-3fb6fe7f43be",
        "colab": {
          "base_uri": "https://localhost:8080/"
        }
      },
      "id": "U-El88AHEDUC",
      "execution_count": null,
      "outputs": [
        {
          "output_type": "execute_result",
          "data": {
            "text/plain": [
              "609"
            ]
          },
          "metadata": {},
          "execution_count": 25
        }
      ]
    },
    {
      "cell_type": "code",
      "source": [
        "price"
      ],
      "metadata": {
        "id": "VcX9Ka0xE1_A",
        "outputId": "8990dca5-1ae2-4b48-8149-81cce124bfbc",
        "colab": {
          "base_uri": "https://localhost:8080/"
        }
      },
      "id": "VcX9Ka0xE1_A",
      "execution_count": null,
      "outputs": [
        {
          "output_type": "execute_result",
          "data": {
            "text/plain": [
              "0      211.48\n",
              "1      289.99\n",
              "2      337.48\n",
              "3      211.48\n",
              "4      194.99\n",
              "        ...  \n",
              "604    575.99\n",
              "605    564.98\n",
              "606    262.98\n",
              "607    115.49\n",
              "608    960.49\n",
              "Name: price, Length: 609, dtype: float64"
            ]
          },
          "metadata": {},
          "execution_count": 26
        }
      ]
    },
    {
      "cell_type": "code",
      "source": [
        "sample = price.sample(200)\n",
        "sample.plot.hist(figsize=(15,10));"
      ],
      "metadata": {
        "id": "J1DJDbdyE8kR",
        "outputId": "54c16074-0951-4505-ea82-7bcf1cb272ff",
        "colab": {
          "base_uri": "https://localhost:8080/",
          "height": 592
        }
      },
      "id": "J1DJDbdyE8kR",
      "execution_count": null,
      "outputs": [
        {
          "output_type": "display_data",
          "data": {
            "text/plain": [
              "<Figure size 1080x720 with 1 Axes>"
            ],
            "image/png": "[encoded data removed]"
          },
          "metadata": {
            "needs_background": "light"
          }
        }
      ]
    },
    {
      "cell_type": "markdown",
      "source": [
        "rating column "
      ],
      "metadata": {
        "id": "_zqYc1pwHBMc"
      },
      "id": "_zqYc1pwHBMc"
    },
    {
      "cell_type": "code",
      "source": [
        "rating = df['rating']\n",
        "len(rating)"
      ],
      "metadata": {
        "id": "7MAfzFz3HcJ8",
        "outputId": "3b8ca477-7e90-42e8-d9c3-868f398aefc5",
        "colab": {
          "base_uri": "https://localhost:8080/"
        }
      },
      "id": "7MAfzFz3HcJ8",
      "execution_count": null,
      "outputs": [
        {
          "output_type": "execute_result",
          "data": {
            "text/plain": [
              "609"
            ]
          },
          "metadata": {},
          "execution_count": 34
        }
      ]
    },
    {
      "cell_type": "code",
      "source": [
        "rating"
      ],
      "metadata": {
        "id": "Srej7oPEHj6X",
        "outputId": "ab1aa87f-17e8-4dd2-b0ab-265c8846ac51",
        "colab": {
          "base_uri": "https://localhost:8080/"
        }
      },
      "id": "Srej7oPEHj6X",
      "execution_count": null,
      "outputs": [
        {
          "output_type": "execute_result",
          "data": {
            "text/plain": [
              "0      100.0\n",
              "1       88.0\n",
              "2        NaN\n",
              "3       80.0\n",
              "4        NaN\n",
              "       ...  \n",
              "604     92.0\n",
              "605     76.0\n",
              "606     94.0\n",
              "607     86.0\n",
              "608      NaN\n",
              "Name: rating, Length: 609, dtype: float64"
            ]
          },
          "metadata": {},
          "execution_count": 35
        }
      ]
    },
    {
      "cell_type": "code",
      "source": [
        "sample = rating.sample(200)\n",
        "sample.plot.hist(figsize=(15,10));"
      ],
      "metadata": {
        "id": "c1FbpH6RGx90",
        "outputId": "5b9e2ac2-2b41-4ab1-b245-a8ae3c95d7ec",
        "colab": {
          "base_uri": "https://localhost:8080/",
          "height": 592
        }
      },
      "id": "c1FbpH6RGx90",
      "execution_count": null,
      "outputs": [
        {
          "output_type": "display_data",
          "data": {
            "text/plain": [
              "<Figure size 1080x720 with 1 Axes>"
            ],
            "image/png": "[encoded data removed]"
          },
          "metadata": {
            "needs_background": "light"
          }
        }
      ]
    },
    {
      "cell_type": "markdown",
      "source": [
        "missing values."
      ],
      "metadata": {
        "id": "U9PR1QM3JgiW"
      },
      "id": "U9PR1QM3JgiW"
    },
    {
      "cell_type": "code",
      "source": [
        "df.isnull().sum()"
      ],
      "metadata": {
        "id": "o8QELREBHsYV",
        "outputId": "89160f2e-dd2a-4bdf-ca86-edf840f8cc58",
        "colab": {
          "base_uri": "https://localhost:8080/"
        }
      },
      "id": "o8QELREBHsYV",
      "execution_count": null,
      "outputs": [
        {
          "output_type": "execute_result",
          "data": {
            "text/plain": [
              "Unnamed: 0             0\n",
              "category               0\n",
              "product                0\n",
              "Original_price        26\n",
              "price                  0\n",
              "perc_of_unit_sold     87\n",
              "rating               182\n",
              "shpping_rate          42\n",
              "gender                28\n",
              "dtype: int64"
            ]
          },
          "metadata": {},
          "execution_count": 41
        }
      ]
    },
    {
      "cell_type": "code",
      "source": [
        "df_replace = df.replace(['NaN\t'],'NULL')\n",
        "print(df_replace)"
      ],
      "metadata": {
        "id": "co6dIOEJI8Xn",
        "outputId": "4ec62a72-8610-4ccb-eb0b-78a6cba6ab9e",
        "colab": {
          "base_uri": "https://localhost:8080/"
        }
      },
      "id": "co6dIOEJI8Xn",
      "execution_count": null,
      "outputs": [
        {
          "output_type": "stream",
          "name": "stdout",
          "text": [
            "     Unnamed: 0        category  \\\n",
            "0             0  Athletic Shoes   \n",
            "1             1  Athletic Shoes   \n",
            "2             2  Athletic Shoes   \n",
            "3             3  Athletic Shoes   \n",
            "4             4  Athletic Shoes   \n",
            "..          ...             ...   \n",
            "604         175         Watches   \n",
            "605         176         Watches   \n",
            "606         177         Watches   \n",
            "607         178         Watches   \n",
            "608         179         Watches   \n",
            "\n",
            "                                               product  Original_price  \\\n",
            "0    Nike SB Check Solar Cnvs Skateboarding Shoes f...           299.0   \n",
            "1    Nike Md Runner 2 Two-Tone Textile-Mesh Suede-A...           349.0   \n",
            "2    Nike air Heights Sneaker for Women , Size 38 E...           419.0   \n",
            "3           Nike Fitness Shoes For Men , 43 EU , Black           319.0   \n",
            "4    adidas ASWEERUN Sneaker for Mens, Grey - Size ...           259.0   \n",
            "..                                                 ...             ...   \n",
            "604  JBW Delmare Men's 4 Genuine Diamonds Silicone ...          2624.0   \n",
            "605  Michael Kors Lexington Women's White Dial Stai...           762.0   \n",
            "606  Puma Casual Watch For Men Analog Stainless Ste...           679.0   \n",
            "607     T5 Watch For Men [Rubber,Chronograph]-H3397G-B           440.0   \n",
            "608  Tissot Dress Watch For Women Analog Stainless ...          1740.0   \n",
            "\n",
            "      price  perc_of_unit_sold  rating                shpping_rate gender  \n",
            "0    211.48               94.0   100.0               FREE Shipping    men  \n",
            "1    289.99               80.0    88.0               FREE Shipping    men  \n",
            "2    337.48               77.0     NaN               FREE Shipping  women  \n",
            "3    211.48               76.0    80.0               FREE Shipping    men  \n",
            "4    194.99               94.0     NaN  Eligible for FREE Shipping    men  \n",
            "..      ...                ...     ...                         ...    ...  \n",
            "604  575.99               72.0    92.0               FREE Shipping    men  \n",
            "605  564.98               28.0    76.0               FREE Shipping  women  \n",
            "606  262.98               67.0    94.0               FREE Shipping    men  \n",
            "607  115.49               40.0    86.0  Eligible for FREE Shipping    men  \n",
            "608  960.49               20.0     NaN               FREE Shipping  women  \n",
            "\n",
            "[609 rows x 9 columns]\n"
          ]
        }
      ]
    },
    {
      "cell_type": "code",
      "source": [
        "df_replace.to_csv('df_replace.csv', index=False)\n",
        "df_1=pd.read_csv('df_replace.csv')\n",
        "df_1.isnull().sum().sum()"
      ],
      "metadata": {
        "id": "iZ47I85sJQcZ",
        "outputId": "215f7bb8-2cfe-4957-f81d-99e075850918",
        "colab": {
          "base_uri": "https://localhost:8080/"
        }
      },
      "id": "iZ47I85sJQcZ",
      "execution_count": null,
      "outputs": [
        {
          "output_type": "execute_result",
          "data": {
            "text/plain": [
              "365"
            ]
          },
          "metadata": {},
          "execution_count": 54
        }
      ]
    },
    {
      "cell_type": "markdown",
      "source": [
        "filling the null value."
      ],
      "metadata": {
        "id": "rRpS2gAxJccz"
      },
      "id": "rRpS2gAxJccz"
    },
    {
      "cell_type": "code",
      "source": [
        "dif_1=df_1.fillna(df_1.median())\n",
        "print(dif_1)"
      ],
      "metadata": {
        "id": "HobqvbjsJdeD",
        "outputId": "862a5252-0c4c-4953-a08f-3f6864fc08ca",
        "colab": {
          "base_uri": "https://localhost:8080/"
        }
      },
      "id": "HobqvbjsJdeD",
      "execution_count": null,
      "outputs": [
        {
          "output_type": "stream",
          "name": "stdout",
          "text": [
            "     Unnamed: 0        category  \\\n",
            "0             0  Athletic Shoes   \n",
            "1             1  Athletic Shoes   \n",
            "2             2  Athletic Shoes   \n",
            "3             3  Athletic Shoes   \n",
            "4             4  Athletic Shoes   \n",
            "..          ...             ...   \n",
            "604         175         Watches   \n",
            "605         176         Watches   \n",
            "606         177         Watches   \n",
            "607         178         Watches   \n",
            "608         179         Watches   \n",
            "\n",
            "                                               product  Original_price  \\\n",
            "0    Nike SB Check Solar Cnvs Skateboarding Shoes f...           299.0   \n",
            "1    Nike Md Runner 2 Two-Tone Textile-Mesh Suede-A...           349.0   \n",
            "2    Nike air Heights Sneaker for Women , Size 38 E...           419.0   \n",
            "3           Nike Fitness Shoes For Men , 43 EU , Black           319.0   \n",
            "4    adidas ASWEERUN Sneaker for Mens, Grey - Size ...           259.0   \n",
            "..                                                 ...             ...   \n",
            "604  JBW Delmare Men's 4 Genuine Diamonds Silicone ...          2624.0   \n",
            "605  Michael Kors Lexington Women's White Dial Stai...           762.0   \n",
            "606  Puma Casual Watch For Men Analog Stainless Ste...           679.0   \n",
            "607     T5 Watch For Men [Rubber,Chronograph]-H3397G-B           440.0   \n",
            "608  Tissot Dress Watch For Women Analog Stainless ...          1740.0   \n",
            "\n",
            "      price  perc_of_unit_sold  rating                shpping_rate gender  \n",
            "0    211.48               94.0   100.0               FREE Shipping    men  \n",
            "1    289.99               80.0    88.0               FREE Shipping    men  \n",
            "2    337.48               77.0    88.0               FREE Shipping  women  \n",
            "3    211.48               76.0    80.0               FREE Shipping    men  \n",
            "4    194.99               94.0    88.0  Eligible for FREE Shipping    men  \n",
            "..      ...                ...     ...                         ...    ...  \n",
            "604  575.99               72.0    92.0               FREE Shipping    men  \n",
            "605  564.98               28.0    76.0               FREE Shipping  women  \n",
            "606  262.98               67.0    94.0               FREE Shipping    men  \n",
            "607  115.49               40.0    86.0  Eligible for FREE Shipping    men  \n",
            "608  960.49               20.0    88.0               FREE Shipping  women  \n",
            "\n",
            "[609 rows x 9 columns]\n"
          ]
        },
        {
          "output_type": "stream",
          "name": "stderr",
          "text": [
            "<ipython-input-55-c35da6e81a00>:1: FutureWarning: Dropping of nuisance columns in DataFrame reductions (with 'numeric_only=None') is deprecated; in a future version this will raise TypeError.  Select only valid columns before calling the reduction.\n",
            "  dif_1=df_1.fillna(df_1.median())\n"
          ]
        }
      ]
    },
    {
      "cell_type": "code",
      "source": [
        "df.head(5)"
      ],
      "metadata": {
        "id": "yh62DddtKfnl",
        "outputId": "1d7f8b48-8859-4788-d90a-7d0158aac4e9",
        "colab": {
          "base_uri": "https://localhost:8080/",
          "height": 354
        }
      },
      "id": "yh62DddtKfnl",
      "execution_count": null,
      "outputs": [
        {
          "output_type": "execute_result",
          "data": {
            "text/plain": [
              "   Unnamed: 0        category  \\\n",
              "0           0  Athletic Shoes   \n",
              "1           1  Athletic Shoes   \n",
              "2           2  Athletic Shoes   \n",
              "3           3  Athletic Shoes   \n",
              "4           4  Athletic Shoes   \n",
              "\n",
              "                                             product  Original_price   price  \\\n",
              "0  Nike SB Check Solar Cnvs Skateboarding Shoes f...           299.0  211.48   \n",
              "1  Nike Md Runner 2 Two-Tone Textile-Mesh Suede-A...           349.0  289.99   \n",
              "2  Nike air Heights Sneaker for Women , Size 38 E...           419.0  337.48   \n",
              "3         Nike Fitness Shoes For Men , 43 EU , Black           319.0  211.48   \n",
              "4  adidas ASWEERUN Sneaker for Mens, Grey - Size ...           259.0  194.99   \n",
              "\n",
              "   perc_of_unit_sold  rating                shpping_rate gender  \n",
              "0               94.0   100.0               FREE Shipping    men  \n",
              "1               80.0    88.0               FREE Shipping    men  \n",
              "2               77.0     NaN               FREE Shipping  women  \n",
              "3               76.0    80.0               FREE Shipping    men  \n",
              "4               94.0     NaN  Eligible for FREE Shipping    men  "
            ],
            "text/html": [
              "\n",
              "  <div id=\"df-34fef645-cdb8-42a5-b22b-fe7616847853\">\n",
              "    <div class=\"colab-df-container\">\n",
              "      <div>\n",
              "<style scoped>\n",
              "    .dataframe tbody tr th:only-of-type {\n",
              "        vertical-align: middle;\n",
              "    }\n",
              "\n",
              "    .dataframe tbody tr th {\n",
              "        vertical-align: top;\n",
              "    }\n",
              "\n",
              "    .dataframe thead th {\n",
              "        text-align: right;\n",
              "    }\n",
              "</style>\n",
              "<table border=\"1\" class=\"dataframe\">\n",
              "  <thead>\n",
              "    <tr style=\"text-align: right;\">\n",
              "      <th></th>\n",
              "      <th>Unnamed: 0</th>\n",
              "      <th>category</th>\n",
              "      <th>product</th>\n",
              "      <th>Original_price</th>\n",
              "      <th>price</th>\n",
              "      <th>perc_of_unit_sold</th>\n",
              "      <th>rating</th>\n",
              "      <th>shpping_rate</th>\n",
              "      <th>gender</th>\n",
              "    </tr>\n",
              "  </thead>\n",
              "  <tbody>\n",
              "    <tr>\n",
              "      <th>0</th>\n",
              "      <td>0</td>\n",
              "      <td>Athletic Shoes</td>\n",
              "      <td>Nike SB Check Solar Cnvs Skateboarding Shoes f...</td>\n",
              "      <td>299.0</td>\n",
              "      <td>211.48</td>\n",
              "      <td>94.0</td>\n",
              "      <td>100.0</td>\n",
              "      <td>FREE Shipping</td>\n",
              "      <td>men</td>\n",
              "    </tr>\n",
              "    <tr>\n",
              "      <th>1</th>\n",
              "      <td>1</td>\n",
              "      <td>Athletic Shoes</td>\n",
              "      <td>Nike Md Runner 2 Two-Tone Textile-Mesh Suede-A...</td>\n",
              "      <td>349.0</td>\n",
              "      <td>289.99</td>\n",
              "      <td>80.0</td>\n",
              "      <td>88.0</td>\n",
              "      <td>FREE Shipping</td>\n",
              "      <td>men</td>\n",
              "    </tr>\n",
              "    <tr>\n",
              "      <th>2</th>\n",
              "      <td>2</td>\n",
              "      <td>Athletic Shoes</td>\n",
              "      <td>Nike air Heights Sneaker for Women , Size 38 E...</td>\n",
              "      <td>419.0</td>\n",
              "      <td>337.48</td>\n",
              "      <td>77.0</td>\n",
              "      <td>NaN</td>\n",
              "      <td>FREE Shipping</td>\n",
              "      <td>women</td>\n",
              "    </tr>\n",
              "    <tr>\n",
              "      <th>3</th>\n",
              "      <td>3</td>\n",
              "      <td>Athletic Shoes</td>\n",
              "      <td>Nike Fitness Shoes For Men , 43 EU , Black</td>\n",
              "      <td>319.0</td>\n",
              "      <td>211.48</td>\n",
              "      <td>76.0</td>\n",
              "      <td>80.0</td>\n",
              "      <td>FREE Shipping</td>\n",
              "      <td>men</td>\n",
              "    </tr>\n",
              "    <tr>\n",
              "      <th>4</th>\n",
              "      <td>4</td>\n",
              "      <td>Athletic Shoes</td>\n",
              "      <td>adidas ASWEERUN Sneaker for Mens, Grey - Size ...</td>\n",
              "      <td>259.0</td>\n",
              "      <td>194.99</td>\n",
              "      <td>94.0</td>\n",
              "      <td>NaN</td>\n",
              "      <td>Eligible for FREE Shipping</td>\n",
              "      <td>men</td>\n",
              "    </tr>\n",
              "  </tbody>\n",
              "</table>\n",
              "</div>\n",
              "      <button class=\"colab-df-convert\" onclick=\"convertToInteractive('df-34fef645-cdb8-42a5-b22b-fe7616847853')\"\n",
              "              title=\"Convert this dataframe to an interactive table.\"\n",
              "              style=\"display:none;\">\n",
              "        \n",
              "  <svg xmlns=\"http://www.w3.org/2000/svg\" height=\"24px\"viewBox=\"0 0 24 24\"\n",
              "       width=\"24px\">\n",
              "    <path d=\"M0 0h24v24H0V0z\" fill=\"none\"/>\n",
              "    <path d=\"M18.56 5.44l.94 2.06.94-2.06 2.06-.94-2.06-.94-.94-2.06-.94 2.06-2.06.94zm-11 1L8.5 8.5l.94-2.06 2.06-.94-2.06-.94L8.5 2.5l-.94 2.06-2.06.94zm10 10l.94 2.06.94-2.06 2.06-.94-2.06-.94-.94-2.06-.94 2.06-2.06.94z\"/><path d=\"M17.41 7.96l-1.37-1.37c-.4-.4-.92-.59-1.43-.59-.52 0-1.04.2-1.43.59L10.3 9.45l-7.72 7.72c-.78.78-.78 2.05 0 2.83L4 21.41c.39.39.9.59 1.41.59.51 0 1.02-.2 1.41-.59l7.78-7.78 2.81-2.81c.8-.78.8-2.07 0-2.86zM5.41 20L4 18.59l7.72-7.72 1.47 1.35L5.41 20z\"/>\n",
              "  </svg>\n",
              "      </button>\n",
              "      \n",
              "  <style>\n",
              "    .colab-df-container {\n",
              "      display:flex;\n",
              "      flex-wrap:wrap;\n",
              "      gap: 12px;\n",
              "    }\n",
              "\n",
              "    .colab-df-convert {\n",
              "      background-color: #E8F0FE;\n",
              "      border: none;\n",
              "      border-radius: 50%;\n",
              "      cursor: pointer;\n",
              "      display: none;\n",
              "      fill: #1967D2;\n",
              "      height: 32px;\n",
              "      padding: 0 0 0 0;\n",
              "      width: 32px;\n",
              "    }\n",
              "\n",
              "    .colab-df-convert:hover {\n",
              "      background-color: #E2EBFA;\n",
              "      box-shadow: 0px 1px 2px rgba(60, 64, 67, 0.3), 0px 1px 3px 1px rgba(60, 64, 67, 0.15);\n",
              "      fill: #174EA6;\n",
              "    }\n",
              "\n",
              "    [theme=dark] .colab-df-convert {\n",
              "      background-color: #3B4455;\n",
              "      fill: #D2E3FC;\n",
              "    }\n",
              "\n",
              "    [theme=dark] .colab-df-convert:hover {\n",
              "      background-color: #434B5C;\n",
              "      box-shadow: 0px 1px 3px 1px rgba(0, 0, 0, 0.15);\n",
              "      filter: drop-shadow(0px 1px 2px rgba(0, 0, 0, 0.3));\n",
              "      fill: #FFFFFF;\n",
              "    }\n",
              "  </style>\n",
              "\n",
              "      <script>\n",
              "        const buttonEl =\n",
              "          document.querySelector('#df-34fef645-cdb8-42a5-b22b-fe7616847853 button.colab-df-convert');\n",
              "        buttonEl.style.display =\n",
              "          google.colab.kernel.accessAllowed ? 'block' : 'none';\n",
              "\n",
              "        async function convertToInteractive(key) {\n",
              "          const element = document.querySelector('#df-34fef645-cdb8-42a5-b22b-fe7616847853');\n",
              "          const dataTable =\n",
              "            await google.colab.kernel.invokeFunction('convertToInteractive',\n",
              "                                                     [key], {});\n",
              "          if (!dataTable) return;\n",
              "\n",
              "          const docLinkHtml = 'Like what you see? Visit the ' +\n",
              "            '<a target=\"_blank\" href=https://colab.research.google.com/notebooks/data_table.ipynb>data table notebook</a>'\n",
              "            + ' to learn more about interactive tables.';\n",
              "          element.innerHTML = '';\n",
              "          dataTable['output_type'] = 'display_data';\n",
              "          await google.colab.output.renderOutput(dataTable, element);\n",
              "          const docLink = document.createElement('div');\n",
              "          docLink.innerHTML = docLinkHtml;\n",
              "          element.appendChild(docLink);\n",
              "        }\n",
              "      </script>\n",
              "    </div>\n",
              "  </div>\n",
              "  "
            ]
          },
          "metadata": {},
          "execution_count": 56
        }
      ]
    }
  ],
  "metadata": {
    "kernelspec": {
      "display_name": "base",
      "language": "python",
      "name": "python3"
    },
    "language_info": {
      "codemirror_mode": {
        "name": "ipython",
        "version": 3
      },
      "file_extension": ".py",
      "mimetype": "text/x-python",
      "name": "python",
      "nbconvert_exporter": "python",
      "pygments_lexer": "ipython3",
      "version": "3.9.13"
    },
    "vscode": {
      "interpreter": {
        "hash": "1a7b8347aa5bf5fbdc77fb09cbd2537e1e573a0ff64c2788c6fd27495243cc71"
      }
    },
    "colab": {
      "provenance": []
    }
  },
  "nbformat": 4,
  "nbformat_minor": 5
}