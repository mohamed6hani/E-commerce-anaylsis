{
  "cells": [
    {
      "cell_type": "code",
      "execution_count": 2,
      "id": "bf87f415",
      "metadata": {
        "id": "bf87f415"
      },
      "outputs": [],
      "source": [
        "import pandas as pd\n",
        "import matplotlib as plt\n",
        "import numpy as np\n",
        "\n",
        "import matplotlib.pyplot as plt\n",
        "import seaborn as sb\n",
        "from matplotlib import rcParams\n",
        "%matplotlib inline"
      ]
    },
    {
      "cell_type": "markdown",
      "source": [
        "read file\n"
      ],
      "metadata": {
        "id": "3cXPmviJBl6Q"
      },
      "id": "3cXPmviJBl6Q"
    },
    {
      "cell_type": "code",
      "source": [
        "df = pd.read_csv('combined_datasets.csv')"
      ],
      "metadata": {
        "id": "AUi-bB6YBjz-"
      },
      "id": "AUi-bB6YBjz-",
      "execution_count": 3,
      "outputs": []
    },
    {
      "cell_type": "markdown",
      "source": [
        "display records"
      ],
      "metadata": {
        "id": "Y9RGGRyrB4KO"
      },
      "id": "Y9RGGRyrB4KO"
    },
    {
      "cell_type": "code",
      "source": [
        "df.head(5)"
      ],
      "metadata": {
        "id": "IzW4boPZB3gv",
        "outputId": "c22d3d07-6621-45f5-8d0e-de5fbb3f2290",
        "colab": {
          "base_uri": "https://localhost:8080/",
          "height": 354
        }
      },
      "id": "IzW4boPZB3gv",
      "execution_count": 4,
      "outputs": [
        {
          "output_type": "execute_result",
          "data": {
            "text/plain": [
              "   Unnamed: 0        category  \\\n",
              "0           0  Athletic Shoes   \n",
              "1           1  Athletic Shoes   \n",
              "2           2  Athletic Shoes   \n",
              "3           3  Athletic Shoes   \n",
              "4           4  Athletic Shoes   \n",
              "\n",
              "                                             product  Original_price   price  \\\n",
              "0  Nike SB Check Solar Cnvs Skateboarding Shoes f...           299.0  211.48   \n",
              "1  Nike Md Runner 2 Two-Tone Textile-Mesh Suede-A...           349.0  289.99   \n",
              "2  Nike air Heights Sneaker for Women , Size 38 E...           419.0  337.48   \n",
              "3         Nike Fitness Shoes For Men , 43 EU , Black           319.0  211.48   \n",
              "4  adidas ASWEERUN Sneaker for Mens, Grey - Size ...           259.0  194.99   \n",
              "\n",
              "   perc_of_unit_sold  rating                shpping_rate gender  \n",
              "0               94.0   100.0               FREE Shipping    men  \n",
              "1               80.0    88.0               FREE Shipping    men  \n",
              "2               77.0     NaN               FREE Shipping  women  \n",
              "3               76.0    80.0               FREE Shipping    men  \n",
              "4               94.0     NaN  Eligible for FREE Shipping    men  "
            ],
            "text/html": [
              "\n",
              "  <div id=\"df-99120dcf-8b48-48e3-9b89-3bc60636bda4\">\n",
              "    <div class=\"colab-df-container\">\n",
              "      <div>\n",
              "<style scoped>\n",
              "    .dataframe tbody tr th:only-of-type {\n",
              "        vertical-align: middle;\n",
              "    }\n",
              "\n",
              "    .dataframe tbody tr th {\n",
              "        vertical-align: top;\n",
              "    }\n",
              "\n",
              "    .dataframe thead th {\n",
              "        text-align: right;\n",
              "    }\n",
              "</style>\n",
              "<table border=\"1\" class=\"dataframe\">\n",
              "  <thead>\n",
              "    <tr style=\"text-align: right;\">\n",
              "      <th></th>\n",
              "      <th>Unnamed: 0</th>\n",
              "      <th>category</th>\n",
              "      <th>product</th>\n",
              "      <th>Original_price</th>\n",
              "      <th>price</th>\n",
              "      <th>perc_of_unit_sold</th>\n",
              "      <th>rating</th>\n",
              "      <th>shpping_rate</th>\n",
              "      <th>gender</th>\n",
              "    </tr>\n",
              "  </thead>\n",
              "  <tbody>\n",
              "    <tr>\n",
              "      <th>0</th>\n",
              "      <td>0</td>\n",
              "      <td>Athletic Shoes</td>\n",
              "      <td>Nike SB Check Solar Cnvs Skateboarding Shoes f...</td>\n",
              "      <td>299.0</td>\n",
              "      <td>211.48</td>\n",
              "      <td>94.0</td>\n",
              "      <td>100.0</td>\n",
              "      <td>FREE Shipping</td>\n",
              "      <td>men</td>\n",
              "    </tr>\n",
              "    <tr>\n",
              "      <th>1</th>\n",
              "      <td>1</td>\n",
              "      <td>Athletic Shoes</td>\n",
              "      <td>Nike Md Runner 2 Two-Tone Textile-Mesh Suede-A...</td>\n",
              "      <td>349.0</td>\n",
              "      <td>289.99</td>\n",
              "      <td>80.0</td>\n",
              "      <td>88.0</td>\n",
              "      <td>FREE Shipping</td>\n",
              "      <td>men</td>\n",
              "    </tr>\n",
              "    <tr>\n",
              "      <th>2</th>\n",
              "      <td>2</td>\n",
              "      <td>Athletic Shoes</td>\n",
              "      <td>Nike air Heights Sneaker for Women , Size 38 E...</td>\n",
              "      <td>419.0</td>\n",
              "      <td>337.48</td>\n",
              "      <td>77.0</td>\n",
              "      <td>NaN</td>\n",
              "      <td>FREE Shipping</td>\n",
              "      <td>women</td>\n",
              "    </tr>\n",
              "    <tr>\n",
              "      <th>3</th>\n",
              "      <td>3</td>\n",
              "      <td>Athletic Shoes</td>\n",
              "      <td>Nike Fitness Shoes For Men , 43 EU , Black</td>\n",
              "      <td>319.0</td>\n",
              "      <td>211.48</td>\n",
              "      <td>76.0</td>\n",
              "      <td>80.0</td>\n",
              "      <td>FREE Shipping</td>\n",
              "      <td>men</td>\n",
              "    </tr>\n",
              "    <tr>\n",
              "      <th>4</th>\n",
              "      <td>4</td>\n",
              "      <td>Athletic Shoes</td>\n",
              "      <td>adidas ASWEERUN Sneaker for Mens, Grey - Size ...</td>\n",
              "      <td>259.0</td>\n",
              "      <td>194.99</td>\n",
              "      <td>94.0</td>\n",
              "      <td>NaN</td>\n",
              "      <td>Eligible for FREE Shipping</td>\n",
              "      <td>men</td>\n",
              "    </tr>\n",
              "  </tbody>\n",
              "</table>\n",
              "</div>\n",
              "      <button class=\"colab-df-convert\" onclick=\"convertToInteractive('df-99120dcf-8b48-48e3-9b89-3bc60636bda4')\"\n",
              "              title=\"Convert this dataframe to an interactive table.\"\n",
              "              style=\"display:none;\">\n",
              "        \n",
              "  <svg xmlns=\"http://www.w3.org/2000/svg\" height=\"24px\"viewBox=\"0 0 24 24\"\n",
              "       width=\"24px\">\n",
              "    <path d=\"M0 0h24v24H0V0z\" fill=\"none\"/>\n",
              "    <path d=\"M18.56 5.44l.94 2.06.94-2.06 2.06-.94-2.06-.94-.94-2.06-.94 2.06-2.06.94zm-11 1L8.5 8.5l.94-2.06 2.06-.94-2.06-.94L8.5 2.5l-.94 2.06-2.06.94zm10 10l.94 2.06.94-2.06 2.06-.94-2.06-.94-.94-2.06-.94 2.06-2.06.94z\"/><path d=\"M17.41 7.96l-1.37-1.37c-.4-.4-.92-.59-1.43-.59-.52 0-1.04.2-1.43.59L10.3 9.45l-7.72 7.72c-.78.78-.78 2.05 0 2.83L4 21.41c.39.39.9.59 1.41.59.51 0 1.02-.2 1.41-.59l7.78-7.78 2.81-2.81c.8-.78.8-2.07 0-2.86zM5.41 20L4 18.59l7.72-7.72 1.47 1.35L5.41 20z\"/>\n",
              "  </svg>\n",
              "      </button>\n",
              "      \n",
              "  <style>\n",
              "    .colab-df-container {\n",
              "      display:flex;\n",
              "      flex-wrap:wrap;\n",
              "      gap: 12px;\n",
              "    }\n",
              "\n",
              "    .colab-df-convert {\n",
              "      background-color: #E8F0FE;\n",
              "      border: none;\n",
              "      border-radius: 50%;\n",
              "      cursor: pointer;\n",
              "      display: none;\n",
              "      fill: #1967D2;\n",
              "      height: 32px;\n",
              "      padding: 0 0 0 0;\n",
              "      width: 32px;\n",
              "    }\n",
              "\n",
              "    .colab-df-convert:hover {\n",
              "      background-color: #E2EBFA;\n",
              "      box-shadow: 0px 1px 2px rgba(60, 64, 67, 0.3), 0px 1px 3px 1px rgba(60, 64, 67, 0.15);\n",
              "      fill: #174EA6;\n",
              "    }\n",
              "\n",
              "    [theme=dark] .colab-df-convert {\n",
              "      background-color: #3B4455;\n",
              "      fill: #D2E3FC;\n",
              "    }\n",
              "\n",
              "    [theme=dark] .colab-df-convert:hover {\n",
              "      background-color: #434B5C;\n",
              "      box-shadow: 0px 1px 3px 1px rgba(0, 0, 0, 0.15);\n",
              "      filter: drop-shadow(0px 1px 2px rgba(0, 0, 0, 0.3));\n",
              "      fill: #FFFFFF;\n",
              "    }\n",
              "  </style>\n",
              "\n",
              "      <script>\n",
              "        const buttonEl =\n",
              "          document.querySelector('#df-99120dcf-8b48-48e3-9b89-3bc60636bda4 button.colab-df-convert');\n",
              "        buttonEl.style.display =\n",
              "          google.colab.kernel.accessAllowed ? 'block' : 'none';\n",
              "\n",
              "        async function convertToInteractive(key) {\n",
              "          const element = document.querySelector('#df-99120dcf-8b48-48e3-9b89-3bc60636bda4');\n",
              "          const dataTable =\n",
              "            await google.colab.kernel.invokeFunction('convertToInteractive',\n",
              "                                                     [key], {});\n",
              "          if (!dataTable) return;\n",
              "\n",
              "          const docLinkHtml = 'Like what you see? Visit the ' +\n",
              "            '<a target=\"_blank\" href=https://colab.research.google.com/notebooks/data_table.ipynb>data table notebook</a>'\n",
              "            + ' to learn more about interactive tables.';\n",
              "          element.innerHTML = '';\n",
              "          dataTable['output_type'] = 'display_data';\n",
              "          await google.colab.output.renderOutput(dataTable, element);\n",
              "          const docLink = document.createElement('div');\n",
              "          docLink.innerHTML = docLinkHtml;\n",
              "          element.appendChild(docLink);\n",
              "        }\n",
              "      </script>\n",
              "    </div>\n",
              "  </div>\n",
              "  "
            ]
          },
          "metadata": {},
          "execution_count": 4
        }
      ]
    },
    {
      "cell_type": "markdown",
      "source": [
        "display the shape and the size of the table"
      ],
      "metadata": {
        "id": "8aPQu4LgCQ87"
      },
      "id": "8aPQu4LgCQ87"
    },
    {
      "cell_type": "code",
      "source": [
        "df.shape"
      ],
      "metadata": {
        "id": "fTxdarGACVcn",
        "outputId": "0f1e86c1-91b3-4120-d8ab-69568b374def",
        "colab": {
          "base_uri": "https://localhost:8080/"
        }
      },
      "id": "fTxdarGACVcn",
      "execution_count": 5,
      "outputs": [
        {
          "output_type": "execute_result",
          "data": {
            "text/plain": [
              "(609, 9)"
            ]
          },
          "metadata": {},
          "execution_count": 5
        }
      ]
    },
    {
      "cell_type": "markdown",
      "source": [
        "size"
      ],
      "metadata": {
        "id": "Z2DS3iKHCf1j"
      },
      "id": "Z2DS3iKHCf1j"
    },
    {
      "cell_type": "code",
      "source": [
        "df.size"
      ],
      "metadata": {
        "id": "U6hensLvCe3f",
        "outputId": "8dfc37e8-a6db-441f-e494-112660f05e7d",
        "colab": {
          "base_uri": "https://localhost:8080/"
        }
      },
      "id": "U6hensLvCe3f",
      "execution_count": 6,
      "outputs": [
        {
          "output_type": "execute_result",
          "data": {
            "text/plain": [
              "5481"
            ]
          },
          "metadata": {},
          "execution_count": 6
        }
      ]
    },
    {
      "cell_type": "markdown",
      "source": [
        "pick the price column and choose a random sample of 200 elements then plot the sample"
      ],
      "metadata": {
        "id": "6bEMlmmCEFKl"
      },
      "id": "6bEMlmmCEFKl"
    },
    {
      "cell_type": "code",
      "source": [
        "price = df['price']\n",
        "len(price)"
      ],
      "metadata": {
        "id": "U-El88AHEDUC",
        "outputId": "aebc0c24-1504-418c-d016-4dfeb3540f22",
        "colab": {
          "base_uri": "https://localhost:8080/"
        }
      },
      "id": "U-El88AHEDUC",
      "execution_count": 7,
      "outputs": [
        {
          "output_type": "execute_result",
          "data": {
            "text/plain": [
              "609"
            ]
          },
          "metadata": {},
          "execution_count": 7
        }
      ]
    },
    {
      "cell_type": "code",
      "source": [
        "price"
      ],
      "metadata": {
        "id": "VcX9Ka0xE1_A",
        "outputId": "f757e522-a8cd-44b8-e68e-c9e370626df2",
        "colab": {
          "base_uri": "https://localhost:8080/"
        }
      },
      "id": "VcX9Ka0xE1_A",
      "execution_count": 8,
      "outputs": [
        {
          "output_type": "execute_result",
          "data": {
            "text/plain": [
              "0      211.48\n",
              "1      289.99\n",
              "2      337.48\n",
              "3      211.48\n",
              "4      194.99\n",
              "        ...  \n",
              "604    575.99\n",
              "605    564.98\n",
              "606    262.98\n",
              "607    115.49\n",
              "608    960.49\n",
              "Name: price, Length: 609, dtype: float64"
            ]
          },
          "metadata": {},
          "execution_count": 8
        }
      ]
    },
    {
      "cell_type": "code",
      "source": [
        "sample = price.sample(200)\n",
        "sample.plot.hist(figsize=(15,10));"
      ],
      "metadata": {
        "id": "J1DJDbdyE8kR",
        "outputId": "12961bc0-c843-455c-b71b-047eb24812d8",
        "colab": {
          "base_uri": "https://localhost:8080/",
          "height": 748
        }
      },
      "id": "J1DJDbdyE8kR",
      "execution_count": 9,
      "outputs": [
        {
          "output_type": "display_data",
          "data": {
            "text/plain": [
              "<Figure size 1500x1000 with 1 Axes>"
            ],
            "image/png": "[encoded data removed]"
          },
          "metadata": {}
        }
      ]
    },
    {
      "cell_type": "markdown",
      "source": [
        "rating column "
      ],
      "metadata": {
        "id": "_zqYc1pwHBMc"
      },
      "id": "_zqYc1pwHBMc"
    },
    {
      "cell_type": "code",
      "source": [
        "rating = df['rating']\n",
        "len(rating)"
      ],
      "metadata": {
        "id": "7MAfzFz3HcJ8",
        "outputId": "019b6283-5080-4883-946e-f7d90a8da096",
        "colab": {
          "base_uri": "https://localhost:8080/"
        }
      },
      "id": "7MAfzFz3HcJ8",
      "execution_count": 10,
      "outputs": [
        {
          "output_type": "execute_result",
          "data": {
            "text/plain": [
              "609"
            ]
          },
          "metadata": {},
          "execution_count": 10
        }
      ]
    },
    {
      "cell_type": "code",
      "source": [
        "rating"
      ],
      "metadata": {
        "id": "Srej7oPEHj6X",
        "outputId": "cc411f8d-b7f2-491e-de5a-44c5a208d5f9",
        "colab": {
          "base_uri": "https://localhost:8080/"
        }
      },
      "id": "Srej7oPEHj6X",
      "execution_count": 11,
      "outputs": [
        {
          "output_type": "execute_result",
          "data": {
            "text/plain": [
              "0      100.0\n",
              "1       88.0\n",
              "2        NaN\n",
              "3       80.0\n",
              "4        NaN\n",
              "       ...  \n",
              "604     92.0\n",
              "605     76.0\n",
              "606     94.0\n",
              "607     86.0\n",
              "608      NaN\n",
              "Name: rating, Length: 609, dtype: float64"
            ]
          },
          "metadata": {},
          "execution_count": 11
        }
      ]
    },
    {
      "cell_type": "code",
      "source": [
        "sample = rating.sample(200)\n",
        "sample.plot.hist(figsize=(15,10));"
      ],
      "metadata": {
        "id": "c1FbpH6RGx90",
        "outputId": "33bb96ed-75f9-4968-9acf-d9679ffc347e",
        "colab": {
          "base_uri": "https://localhost:8080/",
          "height": 754
        }
      },
      "id": "c1FbpH6RGx90",
      "execution_count": 12,
      "outputs": [
        {
          "output_type": "display_data",
          "data": {
            "text/plain": [
              "<Figure size 1500x1000 with 1 Axes>"
            ],
            "image/png": "[encoded data removed]"
          },
          "metadata": {}
        }
      ]
    },
    {
      "cell_type": "markdown",
      "source": [
        "missing values."
      ],
      "metadata": {
        "id": "U9PR1QM3JgiW"
      },
      "id": "U9PR1QM3JgiW"
    },
    {
      "cell_type": "code",
      "source": [
        "df.isnull().sum()"
      ],
      "metadata": {
        "id": "o8QELREBHsYV",
        "outputId": "6734d038-4579-4d66-f768-e5860d65e2af",
        "colab": {
          "base_uri": "https://localhost:8080/"
        }
      },
      "id": "o8QELREBHsYV",
      "execution_count": 13,
      "outputs": [
        {
          "output_type": "execute_result",
          "data": {
            "text/plain": [
              "Unnamed: 0             0\n",
              "category               0\n",
              "product                0\n",
              "Original_price        26\n",
              "price                  0\n",
              "perc_of_unit_sold     87\n",
              "rating               182\n",
              "shpping_rate          42\n",
              "gender                28\n",
              "dtype: int64"
            ]
          },
          "metadata": {},
          "execution_count": 13
        }
      ]
    },
    {
      "cell_type": "code",
      "source": [
        "df.head(5)"
      ],
      "metadata": {
        "colab": {
          "base_uri": "https://localhost:8080/",
          "height": 354
        },
        "id": "vfMO5wMLSqRR",
        "outputId": "61ba3d36-0422-4523-ee53-f9128c3600f3"
      },
      "id": "vfMO5wMLSqRR",
      "execution_count": 16,
      "outputs": [
        {
          "output_type": "execute_result",
          "data": {
            "text/plain": [
              "   Unnamed: 0        category  \\\n",
              "0           0  Athletic Shoes   \n",
              "1           1  Athletic Shoes   \n",
              "2           2  Athletic Shoes   \n",
              "3           3  Athletic Shoes   \n",
              "4           4  Athletic Shoes   \n",
              "\n",
              "                                             product  Original_price   price  \\\n",
              "0  Nike SB Check Solar Cnvs Skateboarding Shoes f...           299.0  211.48   \n",
              "1  Nike Md Runner 2 Two-Tone Textile-Mesh Suede-A...           349.0  289.99   \n",
              "2  Nike air Heights Sneaker for Women , Size 38 E...           419.0  337.48   \n",
              "3         Nike Fitness Shoes For Men , 43 EU , Black           319.0  211.48   \n",
              "4  adidas ASWEERUN Sneaker for Mens, Grey - Size ...           259.0  194.99   \n",
              "\n",
              "   perc_of_unit_sold  rating                shpping_rate gender  \n",
              "0               94.0   100.0               FREE Shipping    men  \n",
              "1               80.0    88.0               FREE Shipping    men  \n",
              "2               77.0     NaN               FREE Shipping  women  \n",
              "3               76.0    80.0               FREE Shipping    men  \n",
              "4               94.0     NaN  Eligible for FREE Shipping    men  "
            ],
            "text/html": [
              "\n",
              "  <div id=\"df-56a57384-7d57-41a7-8e80-c5782bd50510\">\n",
              "    <div class=\"colab-df-container\">\n",
              "      <div>\n",
              "<style scoped>\n",
              "    .dataframe tbody tr th:only-of-type {\n",
              "        vertical-align: middle;\n",
              "    }\n",
              "\n",
              "    .dataframe tbody tr th {\n",
              "        vertical-align: top;\n",
              "    }\n",
              "\n",
              "    .dataframe thead th {\n",
              "        text-align: right;\n",
              "    }\n",
              "</style>\n",
              "<table border=\"1\" class=\"dataframe\">\n",
              "  <thead>\n",
              "    <tr style=\"text-align: right;\">\n",
              "      <th></th>\n",
              "      <th>Unnamed: 0</th>\n",
              "      <th>category</th>\n",
              "      <th>product</th>\n",
              "      <th>Original_price</th>\n",
              "      <th>price</th>\n",
              "      <th>perc_of_unit_sold</th>\n",
              "      <th>rating</th>\n",
              "      <th>shpping_rate</th>\n",
              "      <th>gender</th>\n",
              "    </tr>\n",
              "  </thead>\n",
              "  <tbody>\n",
              "    <tr>\n",
              "      <th>0</th>\n",
              "      <td>0</td>\n",
              "      <td>Athletic Shoes</td>\n",
              "      <td>Nike SB Check Solar Cnvs Skateboarding Shoes f...</td>\n",
              "      <td>299.0</td>\n",
              "      <td>211.48</td>\n",
              "      <td>94.0</td>\n",
              "      <td>100.0</td>\n",
              "      <td>FREE Shipping</td>\n",
              "      <td>men</td>\n",
              "    </tr>\n",
              "    <tr>\n",
              "      <th>1</th>\n",
              "      <td>1</td>\n",
              "      <td>Athletic Shoes</td>\n",
              "      <td>Nike Md Runner 2 Two-Tone Textile-Mesh Suede-A...</td>\n",
              "      <td>349.0</td>\n",
              "      <td>289.99</td>\n",
              "      <td>80.0</td>\n",
              "      <td>88.0</td>\n",
              "      <td>FREE Shipping</td>\n",
              "      <td>men</td>\n",
              "    </tr>\n",
              "    <tr>\n",
              "      <th>2</th>\n",
              "      <td>2</td>\n",
              "      <td>Athletic Shoes</td>\n",
              "      <td>Nike air Heights Sneaker for Women , Size 38 E...</td>\n",
              "      <td>419.0</td>\n",
              "      <td>337.48</td>\n",
              "      <td>77.0</td>\n",
              "      <td>NaN</td>\n",
              "      <td>FREE Shipping</td>\n",
              "      <td>women</td>\n",
              "    </tr>\n",
              "    <tr>\n",
              "      <th>3</th>\n",
              "      <td>3</td>\n",
              "      <td>Athletic Shoes</td>\n",
              "      <td>Nike Fitness Shoes For Men , 43 EU , Black</td>\n",
              "      <td>319.0</td>\n",
              "      <td>211.48</td>\n",
              "      <td>76.0</td>\n",
              "      <td>80.0</td>\n",
              "      <td>FREE Shipping</td>\n",
              "      <td>men</td>\n",
              "    </tr>\n",
              "    <tr>\n",
              "      <th>4</th>\n",
              "      <td>4</td>\n",
              "      <td>Athletic Shoes</td>\n",
              "      <td>adidas ASWEERUN Sneaker for Mens, Grey - Size ...</td>\n",
              "      <td>259.0</td>\n",
              "      <td>194.99</td>\n",
              "      <td>94.0</td>\n",
              "      <td>NaN</td>\n",
              "      <td>Eligible for FREE Shipping</td>\n",
              "      <td>men</td>\n",
              "    </tr>\n",
              "  </tbody>\n",
              "</table>\n",
              "</div>\n",
              "      <button class=\"colab-df-convert\" onclick=\"convertToInteractive('df-56a57384-7d57-41a7-8e80-c5782bd50510')\"\n",
              "              title=\"Convert this dataframe to an interactive table.\"\n",
              "              style=\"display:none;\">\n",
              "        \n",
              "  <svg xmlns=\"http://www.w3.org/2000/svg\" height=\"24px\"viewBox=\"0 0 24 24\"\n",
              "       width=\"24px\">\n",
              "    <path d=\"M0 0h24v24H0V0z\" fill=\"none\"/>\n",
              "    <path d=\"M18.56 5.44l.94 2.06.94-2.06 2.06-.94-2.06-.94-.94-2.06-.94 2.06-2.06.94zm-11 1L8.5 8.5l.94-2.06 2.06-.94-2.06-.94L8.5 2.5l-.94 2.06-2.06.94zm10 10l.94 2.06.94-2.06 2.06-.94-2.06-.94-.94-2.06-.94 2.06-2.06.94z\"/><path d=\"M17.41 7.96l-1.37-1.37c-.4-.4-.92-.59-1.43-.59-.52 0-1.04.2-1.43.59L10.3 9.45l-7.72 7.72c-.78.78-.78 2.05 0 2.83L4 21.41c.39.39.9.59 1.41.59.51 0 1.02-.2 1.41-.59l7.78-7.78 2.81-2.81c.8-.78.8-2.07 0-2.86zM5.41 20L4 18.59l7.72-7.72 1.47 1.35L5.41 20z\"/>\n",
              "  </svg>\n",
              "      </button>\n",
              "      \n",
              "  <style>\n",
              "    .colab-df-container {\n",
              "      display:flex;\n",
              "      flex-wrap:wrap;\n",
              "      gap: 12px;\n",
              "    }\n",
              "\n",
              "    .colab-df-convert {\n",
              "      background-color: #E8F0FE;\n",
              "      border: none;\n",
              "      border-radius: 50%;\n",
              "      cursor: pointer;\n",
              "      display: none;\n",
              "      fill: #1967D2;\n",
              "      height: 32px;\n",
              "      padding: 0 0 0 0;\n",
              "      width: 32px;\n",
              "    }\n",
              "\n",
              "    .colab-df-convert:hover {\n",
              "      background-color: #E2EBFA;\n",
              "      box-shadow: 0px 1px 2px rgba(60, 64, 67, 0.3), 0px 1px 3px 1px rgba(60, 64, 67, 0.15);\n",
              "      fill: #174EA6;\n",
              "    }\n",
              "\n",
              "    [theme=dark] .colab-df-convert {\n",
              "      background-color: #3B4455;\n",
              "      fill: #D2E3FC;\n",
              "    }\n",
              "\n",
              "    [theme=dark] .colab-df-convert:hover {\n",
              "      background-color: #434B5C;\n",
              "      box-shadow: 0px 1px 3px 1px rgba(0, 0, 0, 0.15);\n",
              "      filter: drop-shadow(0px 1px 2px rgba(0, 0, 0, 0.3));\n",
              "      fill: #FFFFFF;\n",
              "    }\n",
              "  </style>\n",
              "\n",
              "      <script>\n",
              "        const buttonEl =\n",
              "          document.querySelector('#df-56a57384-7d57-41a7-8e80-c5782bd50510 button.colab-df-convert');\n",
              "        buttonEl.style.display =\n",
              "          google.colab.kernel.accessAllowed ? 'block' : 'none';\n",
              "\n",
              "        async function convertToInteractive(key) {\n",
              "          const element = document.querySelector('#df-56a57384-7d57-41a7-8e80-c5782bd50510');\n",
              "          const dataTable =\n",
              "            await google.colab.kernel.invokeFunction('convertToInteractive',\n",
              "                                                     [key], {});\n",
              "          if (!dataTable) return;\n",
              "\n",
              "          const docLinkHtml = 'Like what you see? Visit the ' +\n",
              "            '<a target=\"_blank\" href=https://colab.research.google.com/notebooks/data_table.ipynb>data table notebook</a>'\n",
              "            + ' to learn more about interactive tables.';\n",
              "          element.innerHTML = '';\n",
              "          dataTable['output_type'] = 'display_data';\n",
              "          await google.colab.output.renderOutput(dataTable, element);\n",
              "          const docLink = document.createElement('div');\n",
              "          docLink.innerHTML = docLinkHtml;\n",
              "          element.appendChild(docLink);\n",
              "        }\n",
              "      </script>\n",
              "    </div>\n",
              "  </div>\n",
              "  "
            ]
          },
          "metadata": {},
          "execution_count": 16
        }
      ]
    },
    {
      "cell_type": "markdown",
      "source": [
        "filling the null value."
      ],
      "metadata": {
        "id": "rRpS2gAxJccz"
      },
      "id": "rRpS2gAxJccz"
    },
    {
      "cell_type": "code",
      "source": [
        "df.isna().sum()"
      ],
      "metadata": {
        "colab": {
          "base_uri": "https://localhost:8080/"
        },
        "id": "mPNrNx2fYP0q",
        "outputId": "6ce44b03-7bcd-4832-c90d-0d8aec201153"
      },
      "id": "mPNrNx2fYP0q",
      "execution_count": 18,
      "outputs": [
        {
          "output_type": "execute_result",
          "data": {
            "text/plain": [
              "Unnamed: 0             0\n",
              "category               0\n",
              "product                0\n",
              "Original_price        26\n",
              "price                  0\n",
              "perc_of_unit_sold     87\n",
              "rating               182\n",
              "shpping_rate          42\n",
              "gender                28\n",
              "dtype: int64"
            ]
          },
          "metadata": {},
          "execution_count": 18
        }
      ]
    },
    {
      "cell_type": "code",
      "source": [
        "df=df.fillna(df.mean())"
      ],
      "metadata": {
        "colab": {
          "base_uri": "https://localhost:8080/"
        },
        "id": "LJCtvl7fY872",
        "outputId": "7d73ce79-bc59-4d01-cf5a-c328a1b91bc8"
      },
      "id": "LJCtvl7fY872",
      "execution_count": 23,
      "outputs": [
        {
          "output_type": "stream",
          "name": "stderr",
          "text": [
            "<ipython-input-23-6f8c6f28e805>:1: FutureWarning: The default value of numeric_only in DataFrame.mean is deprecated. In a future version, it will default to False. In addition, specifying 'numeric_only=None' is deprecated. Select only valid columns or specify the value of numeric_only to silence this warning.\n",
            "  df=df.fillna(df.mean())\n"
          ]
        }
      ]
    },
    {
      "cell_type": "code",
      "source": [
        "df"
      ],
      "metadata": {
        "colab": {
          "base_uri": "https://localhost:8080/",
          "height": 658
        },
        "id": "OzifpsDfZfVK",
        "outputId": "c565107e-0828-49ed-f68d-7226d4c5e655"
      },
      "id": "OzifpsDfZfVK",
      "execution_count": 24,
      "outputs": [
        {
          "output_type": "execute_result",
          "data": {
            "text/plain": [
              "     Unnamed: 0        category  \\\n",
              "0             0  Athletic Shoes   \n",
              "1             1  Athletic Shoes   \n",
              "2             2  Athletic Shoes   \n",
              "3             3  Athletic Shoes   \n",
              "4             4  Athletic Shoes   \n",
              "..          ...             ...   \n",
              "604         175         Watches   \n",
              "605         176         Watches   \n",
              "606         177         Watches   \n",
              "607         178         Watches   \n",
              "608         179         Watches   \n",
              "\n",
              "                                               product  Original_price  \\\n",
              "0    Nike SB Check Solar Cnvs Skateboarding Shoes f...           299.0   \n",
              "1    Nike Md Runner 2 Two-Tone Textile-Mesh Suede-A...           349.0   \n",
              "2    Nike air Heights Sneaker for Women , Size 38 E...           419.0   \n",
              "3           Nike Fitness Shoes For Men , 43 EU , Black           319.0   \n",
              "4    adidas ASWEERUN Sneaker for Mens, Grey - Size ...           259.0   \n",
              "..                                                 ...             ...   \n",
              "604  JBW Delmare Men's 4 Genuine Diamonds Silicone ...          2624.0   \n",
              "605  Michael Kors Lexington Women's White Dial Stai...           762.0   \n",
              "606  Puma Casual Watch For Men Analog Stainless Ste...           679.0   \n",
              "607     T5 Watch For Men [Rubber,Chronograph]-H3397G-B           440.0   \n",
              "608  Tissot Dress Watch For Women Analog Stainless ...          1740.0   \n",
              "\n",
              "      price  perc_of_unit_sold      rating                shpping_rate gender  \n",
              "0    211.48               94.0  100.000000               FREE Shipping    men  \n",
              "1    289.99               80.0   88.000000               FREE Shipping    men  \n",
              "2    337.48               77.0   87.807963               FREE Shipping  women  \n",
              "3    211.48               76.0   80.000000               FREE Shipping    men  \n",
              "4    194.99               94.0   87.807963  Eligible for FREE Shipping    men  \n",
              "..      ...                ...         ...                         ...    ...  \n",
              "604  575.99               72.0   92.000000               FREE Shipping    men  \n",
              "605  564.98               28.0   76.000000               FREE Shipping  women  \n",
              "606  262.98               67.0   94.000000               FREE Shipping    men  \n",
              "607  115.49               40.0   86.000000  Eligible for FREE Shipping    men  \n",
              "608  960.49               20.0   87.807963               FREE Shipping  women  \n",
              "\n",
              "[609 rows x 9 columns]"
            ],
            "text/html": [
              "\n",
              "  <div id=\"df-6d93fded-6684-462e-b200-8fef15a3b912\">\n",
              "    <div class=\"colab-df-container\">\n",
              "      <div>\n",
              "<style scoped>\n",
              "    .dataframe tbody tr th:only-of-type {\n",
              "        vertical-align: middle;\n",
              "    }\n",
              "\n",
              "    .dataframe tbody tr th {\n",
              "        vertical-align: top;\n",
              "    }\n",
              "\n",
              "    .dataframe thead th {\n",
              "        text-align: right;\n",
              "    }\n",
              "</style>\n",
              "<table border=\"1\" class=\"dataframe\">\n",
              "  <thead>\n",
              "    <tr style=\"text-align: right;\">\n",
              "      <th></th>\n",
              "      <th>Unnamed: 0</th>\n",
              "      <th>category</th>\n",
              "      <th>product</th>\n",
              "      <th>Original_price</th>\n",
              "      <th>price</th>\n",
              "      <th>perc_of_unit_sold</th>\n",
              "      <th>rating</th>\n",
              "      <th>shpping_rate</th>\n",
              "      <th>gender</th>\n",
              "    </tr>\n",
              "  </thead>\n",
              "  <tbody>\n",
              "    <tr>\n",
              "      <th>0</th>\n",
              "      <td>0</td>\n",
              "      <td>Athletic Shoes</td>\n",
              "      <td>Nike SB Check Solar Cnvs Skateboarding Shoes f...</td>\n",
              "      <td>299.0</td>\n",
              "      <td>211.48</td>\n",
              "      <td>94.0</td>\n",
              "      <td>100.000000</td>\n",
              "      <td>FREE Shipping</td>\n",
              "      <td>men</td>\n",
              "    </tr>\n",
              "    <tr>\n",
              "      <th>1</th>\n",
              "      <td>1</td>\n",
              "      <td>Athletic Shoes</td>\n",
              "      <td>Nike Md Runner 2 Two-Tone Textile-Mesh Suede-A...</td>\n",
              "      <td>349.0</td>\n",
              "      <td>289.99</td>\n",
              "      <td>80.0</td>\n",
              "      <td>88.000000</td>\n",
              "      <td>FREE Shipping</td>\n",
              "      <td>men</td>\n",
              "    </tr>\n",
              "    <tr>\n",
              "      <th>2</th>\n",
              "      <td>2</td>\n",
              "      <td>Athletic Shoes</td>\n",
              "      <td>Nike air Heights Sneaker for Women , Size 38 E...</td>\n",
              "      <td>419.0</td>\n",
              "      <td>337.48</td>\n",
              "      <td>77.0</td>\n",
              "      <td>87.807963</td>\n",
              "      <td>FREE Shipping</td>\n",
              "      <td>women</td>\n",
              "    </tr>\n",
              "    <tr>\n",
              "      <th>3</th>\n",
              "      <td>3</td>\n",
              "      <td>Athletic Shoes</td>\n",
              "      <td>Nike Fitness Shoes For Men , 43 EU , Black</td>\n",
              "      <td>319.0</td>\n",
              "      <td>211.48</td>\n",
              "      <td>76.0</td>\n",
              "      <td>80.000000</td>\n",
              "      <td>FREE Shipping</td>\n",
              "      <td>men</td>\n",
              "    </tr>\n",
              "    <tr>\n",
              "      <th>4</th>\n",
              "      <td>4</td>\n",
              "      <td>Athletic Shoes</td>\n",
              "      <td>adidas ASWEERUN Sneaker for Mens, Grey - Size ...</td>\n",
              "      <td>259.0</td>\n",
              "      <td>194.99</td>\n",
              "      <td>94.0</td>\n",
              "      <td>87.807963</td>\n",
              "      <td>Eligible for FREE Shipping</td>\n",
              "      <td>men</td>\n",
              "    </tr>\n",
              "    <tr>\n",
              "      <th>...</th>\n",
              "      <td>...</td>\n",
              "      <td>...</td>\n",
              "      <td>...</td>\n",
              "      <td>...</td>\n",
              "      <td>...</td>\n",
              "      <td>...</td>\n",
              "      <td>...</td>\n",
              "      <td>...</td>\n",
              "      <td>...</td>\n",
              "    </tr>\n",
              "    <tr>\n",
              "      <th>604</th>\n",
              "      <td>175</td>\n",
              "      <td>Watches</td>\n",
              "      <td>JBW Delmare Men's 4 Genuine Diamonds Silicone ...</td>\n",
              "      <td>2624.0</td>\n",
              "      <td>575.99</td>\n",
              "      <td>72.0</td>\n",
              "      <td>92.000000</td>\n",
              "      <td>FREE Shipping</td>\n",
              "      <td>men</td>\n",
              "    </tr>\n",
              "    <tr>\n",
              "      <th>605</th>\n",
              "      <td>176</td>\n",
              "      <td>Watches</td>\n",
              "      <td>Michael Kors Lexington Women's White Dial Stai...</td>\n",
              "      <td>762.0</td>\n",
              "      <td>564.98</td>\n",
              "      <td>28.0</td>\n",
              "      <td>76.000000</td>\n",
              "      <td>FREE Shipping</td>\n",
              "      <td>women</td>\n",
              "    </tr>\n",
              "    <tr>\n",
              "      <th>606</th>\n",
              "      <td>177</td>\n",
              "      <td>Watches</td>\n",
              "      <td>Puma Casual Watch For Men Analog Stainless Ste...</td>\n",
              "      <td>679.0</td>\n",
              "      <td>262.98</td>\n",
              "      <td>67.0</td>\n",
              "      <td>94.000000</td>\n",
              "      <td>FREE Shipping</td>\n",
              "      <td>men</td>\n",
              "    </tr>\n",
              "    <tr>\n",
              "      <th>607</th>\n",
              "      <td>178</td>\n",
              "      <td>Watches</td>\n",
              "      <td>T5 Watch For Men [Rubber,Chronograph]-H3397G-B</td>\n",
              "      <td>440.0</td>\n",
              "      <td>115.49</td>\n",
              "      <td>40.0</td>\n",
              "      <td>86.000000</td>\n",
              "      <td>Eligible for FREE Shipping</td>\n",
              "      <td>men</td>\n",
              "    </tr>\n",
              "    <tr>\n",
              "      <th>608</th>\n",
              "      <td>179</td>\n",
              "      <td>Watches</td>\n",
              "      <td>Tissot Dress Watch For Women Analog Stainless ...</td>\n",
              "      <td>1740.0</td>\n",
              "      <td>960.49</td>\n",
              "      <td>20.0</td>\n",
              "      <td>87.807963</td>\n",
              "      <td>FREE Shipping</td>\n",
              "      <td>women</td>\n",
              "    </tr>\n",
              "  </tbody>\n",
              "</table>\n",
              "<p>609 rows × 9 columns</p>\n",
              "</div>\n",
              "      <button class=\"colab-df-convert\" onclick=\"convertToInteractive('df-6d93fded-6684-462e-b200-8fef15a3b912')\"\n",
              "              title=\"Convert this dataframe to an interactive table.\"\n",
              "              style=\"display:none;\">\n",
              "        \n",
              "  <svg xmlns=\"http://www.w3.org/2000/svg\" height=\"24px\"viewBox=\"0 0 24 24\"\n",
              "       width=\"24px\">\n",
              "    <path d=\"M0 0h24v24H0V0z\" fill=\"none\"/>\n",
              "    <path d=\"M18.56 5.44l.94 2.06.94-2.06 2.06-.94-2.06-.94-.94-2.06-.94 2.06-2.06.94zm-11 1L8.5 8.5l.94-2.06 2.06-.94-2.06-.94L8.5 2.5l-.94 2.06-2.06.94zm10 10l.94 2.06.94-2.06 2.06-.94-2.06-.94-.94-2.06-.94 2.06-2.06.94z\"/><path d=\"M17.41 7.96l-1.37-1.37c-.4-.4-.92-.59-1.43-.59-.52 0-1.04.2-1.43.59L10.3 9.45l-7.72 7.72c-.78.78-.78 2.05 0 2.83L4 21.41c.39.39.9.59 1.41.59.51 0 1.02-.2 1.41-.59l7.78-7.78 2.81-2.81c.8-.78.8-2.07 0-2.86zM5.41 20L4 18.59l7.72-7.72 1.47 1.35L5.41 20z\"/>\n",
              "  </svg>\n",
              "      </button>\n",
              "      \n",
              "  <style>\n",
              "    .colab-df-container {\n",
              "      display:flex;\n",
              "      flex-wrap:wrap;\n",
              "      gap: 12px;\n",
              "    }\n",
              "\n",
              "    .colab-df-convert {\n",
              "      background-color: #E8F0FE;\n",
              "      border: none;\n",
              "      border-radius: 50%;\n",
              "      cursor: pointer;\n",
              "      display: none;\n",
              "      fill: #1967D2;\n",
              "      height: 32px;\n",
              "      padding: 0 0 0 0;\n",
              "      width: 32px;\n",
              "    }\n",
              "\n",
              "    .colab-df-convert:hover {\n",
              "      background-color: #E2EBFA;\n",
              "      box-shadow: 0px 1px 2px rgba(60, 64, 67, 0.3), 0px 1px 3px 1px rgba(60, 64, 67, 0.15);\n",
              "      fill: #174EA6;\n",
              "    }\n",
              "\n",
              "    [theme=dark] .colab-df-convert {\n",
              "      background-color: #3B4455;\n",
              "      fill: #D2E3FC;\n",
              "    }\n",
              "\n",
              "    [theme=dark] .colab-df-convert:hover {\n",
              "      background-color: #434B5C;\n",
              "      box-shadow: 0px 1px 3px 1px rgba(0, 0, 0, 0.15);\n",
              "      filter: drop-shadow(0px 1px 2px rgba(0, 0, 0, 0.3));\n",
              "      fill: #FFFFFF;\n",
              "    }\n",
              "  </style>\n",
              "\n",
              "      <script>\n",
              "        const buttonEl =\n",
              "          document.querySelector('#df-6d93fded-6684-462e-b200-8fef15a3b912 button.colab-df-convert');\n",
              "        buttonEl.style.display =\n",
              "          google.colab.kernel.accessAllowed ? 'block' : 'none';\n",
              "\n",
              "        async function convertToInteractive(key) {\n",
              "          const element = document.querySelector('#df-6d93fded-6684-462e-b200-8fef15a3b912');\n",
              "          const dataTable =\n",
              "            await google.colab.kernel.invokeFunction('convertToInteractive',\n",
              "                                                     [key], {});\n",
              "          if (!dataTable) return;\n",
              "\n",
              "          const docLinkHtml = 'Like what you see? Visit the ' +\n",
              "            '<a target=\"_blank\" href=https://colab.research.google.com/notebooks/data_table.ipynb>data table notebook</a>'\n",
              "            + ' to learn more about interactive tables.';\n",
              "          element.innerHTML = '';\n",
              "          dataTable['output_type'] = 'display_data';\n",
              "          await google.colab.output.renderOutput(dataTable, element);\n",
              "          const docLink = document.createElement('div');\n",
              "          docLink.innerHTML = docLinkHtml;\n",
              "          element.appendChild(docLink);\n",
              "        }\n",
              "      </script>\n",
              "    </div>\n",
              "  </div>\n",
              "  "
            ]
          },
          "metadata": {},
          "execution_count": 24
        }
      ]
    },
    {
      "cell_type": "code",
      "source": [
        "df.isna().sum()"
      ],
      "metadata": {
        "colab": {
          "base_uri": "https://localhost:8080/"
        },
        "id": "SB5YxvSyaB-P",
        "outputId": "8fd684da-68e5-453a-faed-6842e2ed541c"
      },
      "id": "SB5YxvSyaB-P",
      "execution_count": 25,
      "outputs": [
        {
          "output_type": "execute_result",
          "data": {
            "text/plain": [
              "Unnamed: 0            0\n",
              "category              0\n",
              "product               0\n",
              "Original_price        0\n",
              "price                 0\n",
              "perc_of_unit_sold     0\n",
              "rating                0\n",
              "shpping_rate         42\n",
              "gender               28\n",
              "dtype: int64"
            ]
          },
          "metadata": {},
          "execution_count": 25
        }
      ]
    },
    {
      "cell_type": "code",
      "source": [
        "df['gender'].fillna(value='Unisex',inplace=True)\n",
        "df"
      ],
      "metadata": {
        "colab": {
          "base_uri": "https://localhost:8080/",
          "height": 658
        },
        "id": "mozITXihahBY",
        "outputId": "4b6ca092-a154-4d12-9c82-da41e9810eda"
      },
      "id": "mozITXihahBY",
      "execution_count": 27,
      "outputs": [
        {
          "output_type": "execute_result",
          "data": {
            "text/plain": [
              "     Unnamed: 0        category  \\\n",
              "0             0  Athletic Shoes   \n",
              "1             1  Athletic Shoes   \n",
              "2             2  Athletic Shoes   \n",
              "3             3  Athletic Shoes   \n",
              "4             4  Athletic Shoes   \n",
              "..          ...             ...   \n",
              "604         175         Watches   \n",
              "605         176         Watches   \n",
              "606         177         Watches   \n",
              "607         178         Watches   \n",
              "608         179         Watches   \n",
              "\n",
              "                                               product  Original_price  \\\n",
              "0    Nike SB Check Solar Cnvs Skateboarding Shoes f...           299.0   \n",
              "1    Nike Md Runner 2 Two-Tone Textile-Mesh Suede-A...           349.0   \n",
              "2    Nike air Heights Sneaker for Women , Size 38 E...           419.0   \n",
              "3           Nike Fitness Shoes For Men , 43 EU , Black           319.0   \n",
              "4    adidas ASWEERUN Sneaker for Mens, Grey - Size ...           259.0   \n",
              "..                                                 ...             ...   \n",
              "604  JBW Delmare Men's 4 Genuine Diamonds Silicone ...          2624.0   \n",
              "605  Michael Kors Lexington Women's White Dial Stai...           762.0   \n",
              "606  Puma Casual Watch For Men Analog Stainless Ste...           679.0   \n",
              "607     T5 Watch For Men [Rubber,Chronograph]-H3397G-B           440.0   \n",
              "608  Tissot Dress Watch For Women Analog Stainless ...          1740.0   \n",
              "\n",
              "      price  perc_of_unit_sold      rating                shpping_rate gender  \n",
              "0    211.48               94.0  100.000000               FREE Shipping    men  \n",
              "1    289.99               80.0   88.000000               FREE Shipping    men  \n",
              "2    337.48               77.0   87.807963               FREE Shipping  women  \n",
              "3    211.48               76.0   80.000000               FREE Shipping    men  \n",
              "4    194.99               94.0   87.807963  Eligible for FREE Shipping    men  \n",
              "..      ...                ...         ...                         ...    ...  \n",
              "604  575.99               72.0   92.000000               FREE Shipping    men  \n",
              "605  564.98               28.0   76.000000               FREE Shipping  women  \n",
              "606  262.98               67.0   94.000000               FREE Shipping    men  \n",
              "607  115.49               40.0   86.000000  Eligible for FREE Shipping    men  \n",
              "608  960.49               20.0   87.807963               FREE Shipping  women  \n",
              "\n",
              "[609 rows x 9 columns]"
            ],
            "text/html": [
              "\n",
              "  <div id=\"df-04898465-54eb-4f95-af48-d0b582b52473\">\n",
              "    <div class=\"colab-df-container\">\n",
              "      <div>\n",
              "<style scoped>\n",
              "    .dataframe tbody tr th:only-of-type {\n",
              "        vertical-align: middle;\n",
              "    }\n",
              "\n",
              "    .dataframe tbody tr th {\n",
              "        vertical-align: top;\n",
              "    }\n",
              "\n",
              "    .dataframe thead th {\n",
              "        text-align: right;\n",
              "    }\n",
              "</style>\n",
              "<table border=\"1\" class=\"dataframe\">\n",
              "  <thead>\n",
              "    <tr style=\"text-align: right;\">\n",
              "      <th></th>\n",
              "      <th>Unnamed: 0</th>\n",
              "      <th>category</th>\n",
              "      <th>product</th>\n",
              "      <th>Original_price</th>\n",
              "      <th>price</th>\n",
              "      <th>perc_of_unit_sold</th>\n",
              "      <th>rating</th>\n",
              "      <th>shpping_rate</th>\n",
              "      <th>gender</th>\n",
              "    </tr>\n",
              "  </thead>\n",
              "  <tbody>\n",
              "    <tr>\n",
              "      <th>0</th>\n",
              "      <td>0</td>\n",
              "      <td>Athletic Shoes</td>\n",
              "      <td>Nike SB Check Solar Cnvs Skateboarding Shoes f...</td>\n",
              "      <td>299.0</td>\n",
              "      <td>211.48</td>\n",
              "      <td>94.0</td>\n",
              "      <td>100.000000</td>\n",
              "      <td>FREE Shipping</td>\n",
              "      <td>men</td>\n",
              "    </tr>\n",
              "    <tr>\n",
              "      <th>1</th>\n",
              "      <td>1</td>\n",
              "      <td>Athletic Shoes</td>\n",
              "      <td>Nike Md Runner 2 Two-Tone Textile-Mesh Suede-A...</td>\n",
              "      <td>349.0</td>\n",
              "      <td>289.99</td>\n",
              "      <td>80.0</td>\n",
              "      <td>88.000000</td>\n",
              "      <td>FREE Shipping</td>\n",
              "      <td>men</td>\n",
              "    </tr>\n",
              "    <tr>\n",
              "      <th>2</th>\n",
              "      <td>2</td>\n",
              "      <td>Athletic Shoes</td>\n",
              "      <td>Nike air Heights Sneaker for Women , Size 38 E...</td>\n",
              "      <td>419.0</td>\n",
              "      <td>337.48</td>\n",
              "      <td>77.0</td>\n",
              "      <td>87.807963</td>\n",
              "      <td>FREE Shipping</td>\n",
              "      <td>women</td>\n",
              "    </tr>\n",
              "    <tr>\n",
              "      <th>3</th>\n",
              "      <td>3</td>\n",
              "      <td>Athletic Shoes</td>\n",
              "      <td>Nike Fitness Shoes For Men , 43 EU , Black</td>\n",
              "      <td>319.0</td>\n",
              "      <td>211.48</td>\n",
              "      <td>76.0</td>\n",
              "      <td>80.000000</td>\n",
              "      <td>FREE Shipping</td>\n",
              "      <td>men</td>\n",
              "    </tr>\n",
              "    <tr>\n",
              "      <th>4</th>\n",
              "      <td>4</td>\n",
              "      <td>Athletic Shoes</td>\n",
              "      <td>adidas ASWEERUN Sneaker for Mens, Grey - Size ...</td>\n",
              "      <td>259.0</td>\n",
              "      <td>194.99</td>\n",
              "      <td>94.0</td>\n",
              "      <td>87.807963</td>\n",
              "      <td>Eligible for FREE Shipping</td>\n",
              "      <td>men</td>\n",
              "    </tr>\n",
              "    <tr>\n",
              "      <th>...</th>\n",
              "      <td>...</td>\n",
              "      <td>...</td>\n",
              "      <td>...</td>\n",
              "      <td>...</td>\n",
              "      <td>...</td>\n",
              "      <td>...</td>\n",
              "      <td>...</td>\n",
              "      <td>...</td>\n",
              "      <td>...</td>\n",
              "    </tr>\n",
              "    <tr>\n",
              "      <th>604</th>\n",
              "      <td>175</td>\n",
              "      <td>Watches</td>\n",
              "      <td>JBW Delmare Men's 4 Genuine Diamonds Silicone ...</td>\n",
              "      <td>2624.0</td>\n",
              "      <td>575.99</td>\n",
              "      <td>72.0</td>\n",
              "      <td>92.000000</td>\n",
              "      <td>FREE Shipping</td>\n",
              "      <td>men</td>\n",
              "    </tr>\n",
              "    <tr>\n",
              "      <th>605</th>\n",
              "      <td>176</td>\n",
              "      <td>Watches</td>\n",
              "      <td>Michael Kors Lexington Women's White Dial Stai...</td>\n",
              "      <td>762.0</td>\n",
              "      <td>564.98</td>\n",
              "      <td>28.0</td>\n",
              "      <td>76.000000</td>\n",
              "      <td>FREE Shipping</td>\n",
              "      <td>women</td>\n",
              "    </tr>\n",
              "    <tr>\n",
              "      <th>606</th>\n",
              "      <td>177</td>\n",
              "      <td>Watches</td>\n",
              "      <td>Puma Casual Watch For Men Analog Stainless Ste...</td>\n",
              "      <td>679.0</td>\n",
              "      <td>262.98</td>\n",
              "      <td>67.0</td>\n",
              "      <td>94.000000</td>\n",
              "      <td>FREE Shipping</td>\n",
              "      <td>men</td>\n",
              "    </tr>\n",
              "    <tr>\n",
              "      <th>607</th>\n",
              "      <td>178</td>\n",
              "      <td>Watches</td>\n",
              "      <td>T5 Watch For Men [Rubber,Chronograph]-H3397G-B</td>\n",
              "      <td>440.0</td>\n",
              "      <td>115.49</td>\n",
              "      <td>40.0</td>\n",
              "      <td>86.000000</td>\n",
              "      <td>Eligible for FREE Shipping</td>\n",
              "      <td>men</td>\n",
              "    </tr>\n",
              "    <tr>\n",
              "      <th>608</th>\n",
              "      <td>179</td>\n",
              "      <td>Watches</td>\n",
              "      <td>Tissot Dress Watch For Women Analog Stainless ...</td>\n",
              "      <td>1740.0</td>\n",
              "      <td>960.49</td>\n",
              "      <td>20.0</td>\n",
              "      <td>87.807963</td>\n",
              "      <td>FREE Shipping</td>\n",
              "      <td>women</td>\n",
              "    </tr>\n",
              "  </tbody>\n",
              "</table>\n",
              "<p>609 rows × 9 columns</p>\n",
              "</div>\n",
              "      <button class=\"colab-df-convert\" onclick=\"convertToInteractive('df-04898465-54eb-4f95-af48-d0b582b52473')\"\n",
              "              title=\"Convert this dataframe to an interactive table.\"\n",
              "              style=\"display:none;\">\n",
              "        \n",
              "  <svg xmlns=\"http://www.w3.org/2000/svg\" height=\"24px\"viewBox=\"0 0 24 24\"\n",
              "       width=\"24px\">\n",
              "    <path d=\"M0 0h24v24H0V0z\" fill=\"none\"/>\n",
              "    <path d=\"M18.56 5.44l.94 2.06.94-2.06 2.06-.94-2.06-.94-.94-2.06-.94 2.06-2.06.94zm-11 1L8.5 8.5l.94-2.06 2.06-.94-2.06-.94L8.5 2.5l-.94 2.06-2.06.94zm10 10l.94 2.06.94-2.06 2.06-.94-2.06-.94-.94-2.06-.94 2.06-2.06.94z\"/><path d=\"M17.41 7.96l-1.37-1.37c-.4-.4-.92-.59-1.43-.59-.52 0-1.04.2-1.43.59L10.3 9.45l-7.72 7.72c-.78.78-.78 2.05 0 2.83L4 21.41c.39.39.9.59 1.41.59.51 0 1.02-.2 1.41-.59l7.78-7.78 2.81-2.81c.8-.78.8-2.07 0-2.86zM5.41 20L4 18.59l7.72-7.72 1.47 1.35L5.41 20z\"/>\n",
              "  </svg>\n",
              "      </button>\n",
              "      \n",
              "  <style>\n",
              "    .colab-df-container {\n",
              "      display:flex;\n",
              "      flex-wrap:wrap;\n",
              "      gap: 12px;\n",
              "    }\n",
              "\n",
              "    .colab-df-convert {\n",
              "      background-color: #E8F0FE;\n",
              "      border: none;\n",
              "      border-radius: 50%;\n",
              "      cursor: pointer;\n",
              "      display: none;\n",
              "      fill: #1967D2;\n",
              "      height: 32px;\n",
              "      padding: 0 0 0 0;\n",
              "      width: 32px;\n",
              "    }\n",
              "\n",
              "    .colab-df-convert:hover {\n",
              "      background-color: #E2EBFA;\n",
              "      box-shadow: 0px 1px 2px rgba(60, 64, 67, 0.3), 0px 1px 3px 1px rgba(60, 64, 67, 0.15);\n",
              "      fill: #174EA6;\n",
              "    }\n",
              "\n",
              "    [theme=dark] .colab-df-convert {\n",
              "      background-color: #3B4455;\n",
              "      fill: #D2E3FC;\n",
              "    }\n",
              "\n",
              "    [theme=dark] .colab-df-convert:hover {\n",
              "      background-color: #434B5C;\n",
              "      box-shadow: 0px 1px 3px 1px rgba(0, 0, 0, 0.15);\n",
              "      filter: drop-shadow(0px 1px 2px rgba(0, 0, 0, 0.3));\n",
              "      fill: #FFFFFF;\n",
              "    }\n",
              "  </style>\n",
              "\n",
              "      <script>\n",
              "        const buttonEl =\n",
              "          document.querySelector('#df-04898465-54eb-4f95-af48-d0b582b52473 button.colab-df-convert');\n",
              "        buttonEl.style.display =\n",
              "          google.colab.kernel.accessAllowed ? 'block' : 'none';\n",
              "\n",
              "        async function convertToInteractive(key) {\n",
              "          const element = document.querySelector('#df-04898465-54eb-4f95-af48-d0b582b52473');\n",
              "          const dataTable =\n",
              "            await google.colab.kernel.invokeFunction('convertToInteractive',\n",
              "                                                     [key], {});\n",
              "          if (!dataTable) return;\n",
              "\n",
              "          const docLinkHtml = 'Like what you see? Visit the ' +\n",
              "            '<a target=\"_blank\" href=https://colab.research.google.com/notebooks/data_table.ipynb>data table notebook</a>'\n",
              "            + ' to learn more about interactive tables.';\n",
              "          element.innerHTML = '';\n",
              "          dataTable['output_type'] = 'display_data';\n",
              "          await google.colab.output.renderOutput(dataTable, element);\n",
              "          const docLink = document.createElement('div');\n",
              "          docLink.innerHTML = docLinkHtml;\n",
              "          element.appendChild(docLink);\n",
              "        }\n",
              "      </script>\n",
              "    </div>\n",
              "  </div>\n",
              "  "
            ]
          },
          "metadata": {},
          "execution_count": 27
        }
      ]
    },
    {
      "cell_type": "code",
      "source": [
        "df.isna().sum()"
      ],
      "metadata": {
        "colab": {
          "base_uri": "https://localhost:8080/"
        },
        "id": "-E9XqZXccyFY",
        "outputId": "69d8d79c-879d-4629-c004-090a2ca5b172"
      },
      "id": "-E9XqZXccyFY",
      "execution_count": 28,
      "outputs": [
        {
          "output_type": "execute_result",
          "data": {
            "text/plain": [
              "Unnamed: 0            0\n",
              "category              0\n",
              "product               0\n",
              "Original_price        0\n",
              "price                 0\n",
              "perc_of_unit_sold     0\n",
              "rating                0\n",
              "shpping_rate         42\n",
              "gender                0\n",
              "dtype: int64"
            ]
          },
          "metadata": {},
          "execution_count": 28
        }
      ]
    },
    {
      "cell_type": "code",
      "source": [
        "df.dropna(inplace=True)"
      ],
      "metadata": {
        "id": "5gDT7oYedbNs"
      },
      "id": "5gDT7oYedbNs",
      "execution_count": 29,
      "outputs": []
    },
    {
      "cell_type": "code",
      "source": [
        "df.isna().sum()"
      ],
      "metadata": {
        "colab": {
          "base_uri": "https://localhost:8080/"
        },
        "id": "0ROvL8IzdzA5",
        "outputId": "eb8ab868-816e-4a98-e255-206fc916bd0d"
      },
      "id": "0ROvL8IzdzA5",
      "execution_count": 30,
      "outputs": [
        {
          "output_type": "execute_result",
          "data": {
            "text/plain": [
              "Unnamed: 0           0\n",
              "category             0\n",
              "product              0\n",
              "Original_price       0\n",
              "price                0\n",
              "perc_of_unit_sold    0\n",
              "rating               0\n",
              "shpping_rate         0\n",
              "gender               0\n",
              "dtype: int64"
            ]
          },
          "metadata": {},
          "execution_count": 30
        }
      ]
    },
    {
      "cell_type": "code",
      "source": [
        "duplicate_rows = df[df.duplicated()]\n",
        "print(\"Number of duplicate rows:\", duplicate_rows.shape[0])\n",
        "print(\"Duplicate rows:\") \n",
        "print(duplicate_rows)"
      ],
      "metadata": {
        "colab": {
          "base_uri": "https://localhost:8080/"
        },
        "id": "O5Rs8hNOhPuf",
        "outputId": "7c1ee0e5-4d90-4ea0-ba69-211edf38520e"
      },
      "id": "O5Rs8hNOhPuf",
      "execution_count": 31,
      "outputs": [
        {
          "output_type": "stream",
          "name": "stdout",
          "text": [
            "Number of duplicate rows: 0\n",
            "Duplicate rows:\n",
            "Empty DataFrame\n",
            "Columns: [Unnamed: 0, category, product, Original_price, price, perc_of_unit_sold, rating, shpping_rate, gender]\n",
            "Index: []\n"
          ]
        }
      ]
    },
    {
      "cell_type": "code",
      "source": [
        "sb.countplot(data = df, x = 'category', hue = 'gender')\n",
        "plt.xticks(rotation=90);"
      ],
      "metadata": {
        "colab": {
          "base_uri": "https://localhost:8080/",
          "height": 597
        },
        "id": "RVoNB6tg8JAB",
        "outputId": "915c3c4f-a8c3-4a5f-d003-bae92a2c124e"
      },
      "id": "RVoNB6tg8JAB",
      "execution_count": null,
      "outputs": [
        {
          "output_type": "display_data",
          "data": {
            "text/plain": [
              "<Figure size 640x480 with 1 Axes>"
            ],
            "image/png": "[encoded data removed]"
          },
          "metadata": {}
        }
      ]
    },
    {
      "cell_type": "code",
      "source": [
        "\n",
        "x = df['gender'].value_counts(sort=False).index\n",
        "\n",
        "y = df['gender'].value_counts(sort=False)\n",
        "\n",
        "plt.bar(x, y)\n",
        "\n",
        "plt.xlabel('gender')\n",
        "plt.ylabel('count')\n",
        "\n",
        "plt.show()"
      ],
      "metadata": {
        "colab": {
          "base_uri": "https://localhost:8080/",
          "height": 450
        },
        "id": "OAhUu3Ye9Kb1",
        "outputId": "0cd35f43-afc9-427a-dbb9-1c984a2fb7c7"
      },
      "id": "OAhUu3Ye9Kb1",
      "execution_count": null,
      "outputs": [
        {
          "output_type": "display_data",
          "data": {
            "text/plain": [
              "<Figure size 640x480 with 1 Axes>"
            ],
            "image/png": "[encoded data removed]"
          },
          "metadata": {}
        }
      ]
    },
    {
      "cell_type": "code",
      "source": [
        "if any(df['rating'] > 100):\n",
        "  print(\"There is a value above 100\")\n",
        "else:\n",
        "  print(\"Nothing above 100\")"
      ],
      "metadata": {
        "colab": {
          "base_uri": "https://localhost:8080/"
        },
        "id": "s9rHlWRyi-gp",
        "outputId": "f2633a60-2d97-4154-af67-f1775778eba1"
      },
      "id": "s9rHlWRyi-gp",
      "execution_count": 37,
      "outputs": [
        {
          "output_type": "stream",
          "name": "stdout",
          "text": [
            "Nothing above 100\n"
          ]
        }
      ]
    }
  ],
  "metadata": {
    "kernelspec": {
      "display_name": "base",
      "language": "python",
      "name": "python3"
    },
    "language_info": {
      "codemirror_mode": {
        "name": "ipython",
        "version": 3
      },
      "file_extension": ".py",
      "mimetype": "text/x-python",
      "name": "python",
      "nbconvert_exporter": "python",
      "pygments_lexer": "ipython3",
      "version": "3.9.13"
    },
    "vscode": {
      "interpreter": {
        "hash": "1a7b8347aa5bf5fbdc77fb09cbd2537e1e573a0ff64c2788c6fd27495243cc71"
      }
    },
    "colab": {
      "provenance": []
    }
  },
  "nbformat": 4,
  "nbformat_minor": 5
}