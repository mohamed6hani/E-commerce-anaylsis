{
  "cells": [
    {
      "cell_type": "code",
      "execution_count": 1,
      "id": "bf87f415",
      "metadata": {
        "id": "bf87f415"
      },
      "outputs": [],
      "source": [
        "import pandas as pd\n",
        "import matplotlib as plt\n",
        "import numpy as np\n",
        "\n",
        "import matplotlib.pyplot as plt\n",
        "import seaborn as sb\n",
        "from matplotlib import rcParams\n",
        "%matplotlib inline\n",
        "\n",
        "import pandas as pd\n",
        "from sklearn.cluster import KMeans"
      ]
    },
    {
      "cell_type": "markdown",
      "id": "3cXPmviJBl6Q",
      "metadata": {
        "id": "3cXPmviJBl6Q"
      },
      "source": [
        "read file\n"
      ]
    },
    {
      "cell_type": "code",
      "execution_count": 2,
      "id": "AUi-bB6YBjz-",
      "metadata": {
        "id": "AUi-bB6YBjz-"
      },
      "outputs": [],
      "source": [
        "df = pd.read_csv('Datasets\\combined_datasets.csv')"
      ]
    },
    {
      "cell_type": "markdown",
      "id": "Y9RGGRyrB4KO",
      "metadata": {
        "id": "Y9RGGRyrB4KO"
      },
      "source": [
        "display records"
      ]
    },
    {
      "cell_type": "code",
      "execution_count": 3,
      "id": "IzW4boPZB3gv",
      "metadata": {
        "colab": {
          "base_uri": "https://localhost:8080/",
          "height": 354
        },
        "id": "IzW4boPZB3gv",
        "outputId": "c22d3d07-6621-45f5-8d0e-de5fbb3f2290"
      },
      "outputs": [
        {
          "data": {
            "text/html": [
              "<div>\n",
              "<style scoped>\n",
              "    .dataframe tbody tr th:only-of-type {\n",
              "        vertical-align: middle;\n",
              "    }\n",
              "\n",
              "    .dataframe tbody tr th {\n",
              "        vertical-align: top;\n",
              "    }\n",
              "\n",
              "    .dataframe thead th {\n",
              "        text-align: right;\n",
              "    }\n",
              "</style>\n",
              "<table border=\"1\" class=\"dataframe\">\n",
              "  <thead>\n",
              "    <tr style=\"text-align: right;\">\n",
              "      <th></th>\n",
              "      <th>Unnamed: 0</th>\n",
              "      <th>category</th>\n",
              "      <th>product</th>\n",
              "      <th>Original_price</th>\n",
              "      <th>price</th>\n",
              "      <th>perc_of_unit_sold</th>\n",
              "      <th>rating</th>\n",
              "      <th>Shipping Eligibility</th>\n",
              "      <th>gender</th>\n",
              "    </tr>\n",
              "  </thead>\n",
              "  <tbody>\n",
              "    <tr>\n",
              "      <th>0</th>\n",
              "      <td>0</td>\n",
              "      <td>Athletic Shoes</td>\n",
              "      <td>Nike SB Check Solar Cnvs Skateboarding Shoes f...</td>\n",
              "      <td>299.0</td>\n",
              "      <td>211.48</td>\n",
              "      <td>94.0</td>\n",
              "      <td>100.0</td>\n",
              "      <td>FREE Shipping</td>\n",
              "      <td>men</td>\n",
              "    </tr>\n",
              "    <tr>\n",
              "      <th>1</th>\n",
              "      <td>1</td>\n",
              "      <td>Athletic Shoes</td>\n",
              "      <td>Nike Md Runner 2 Two-Tone Textile-Mesh Suede-A...</td>\n",
              "      <td>349.0</td>\n",
              "      <td>289.99</td>\n",
              "      <td>80.0</td>\n",
              "      <td>88.0</td>\n",
              "      <td>FREE Shipping</td>\n",
              "      <td>men</td>\n",
              "    </tr>\n",
              "    <tr>\n",
              "      <th>2</th>\n",
              "      <td>2</td>\n",
              "      <td>Athletic Shoes</td>\n",
              "      <td>Nike air Heights Sneaker for Women , Size 38 E...</td>\n",
              "      <td>419.0</td>\n",
              "      <td>337.48</td>\n",
              "      <td>77.0</td>\n",
              "      <td>NaN</td>\n",
              "      <td>FREE Shipping</td>\n",
              "      <td>women</td>\n",
              "    </tr>\n",
              "    <tr>\n",
              "      <th>3</th>\n",
              "      <td>3</td>\n",
              "      <td>Athletic Shoes</td>\n",
              "      <td>Nike Fitness Shoes For Men , 43 EU , Black</td>\n",
              "      <td>319.0</td>\n",
              "      <td>211.48</td>\n",
              "      <td>76.0</td>\n",
              "      <td>80.0</td>\n",
              "      <td>FREE Shipping</td>\n",
              "      <td>men</td>\n",
              "    </tr>\n",
              "    <tr>\n",
              "      <th>4</th>\n",
              "      <td>4</td>\n",
              "      <td>Athletic Shoes</td>\n",
              "      <td>adidas ASWEERUN Sneaker for Mens, Grey - Size ...</td>\n",
              "      <td>259.0</td>\n",
              "      <td>194.99</td>\n",
              "      <td>94.0</td>\n",
              "      <td>NaN</td>\n",
              "      <td>No FREE Shipping</td>\n",
              "      <td>men</td>\n",
              "    </tr>\n",
              "  </tbody>\n",
              "</table>\n",
              "</div>"
            ],
            "text/plain": [
              "   Unnamed: 0        category   \n",
              "0           0  Athletic Shoes  \\\n",
              "1           1  Athletic Shoes   \n",
              "2           2  Athletic Shoes   \n",
              "3           3  Athletic Shoes   \n",
              "4           4  Athletic Shoes   \n",
              "\n",
              "                                             product  Original_price   price   \n",
              "0  Nike SB Check Solar Cnvs Skateboarding Shoes f...           299.0  211.48  \\\n",
              "1  Nike Md Runner 2 Two-Tone Textile-Mesh Suede-A...           349.0  289.99   \n",
              "2  Nike air Heights Sneaker for Women , Size 38 E...           419.0  337.48   \n",
              "3         Nike Fitness Shoes For Men , 43 EU , Black           319.0  211.48   \n",
              "4  adidas ASWEERUN Sneaker for Mens, Grey - Size ...           259.0  194.99   \n",
              "\n",
              "   perc_of_unit_sold  rating Shipping Eligibility gender  \n",
              "0               94.0   100.0        FREE Shipping    men  \n",
              "1               80.0    88.0        FREE Shipping    men  \n",
              "2               77.0     NaN        FREE Shipping  women  \n",
              "3               76.0    80.0        FREE Shipping    men  \n",
              "4               94.0     NaN     No FREE Shipping    men  "
            ]
          },
          "execution_count": 3,
          "metadata": {},
          "output_type": "execute_result"
        }
      ],
      "source": [
        "df.head(5)"
      ]
    },
    {
      "cell_type": "markdown",
      "id": "8aPQu4LgCQ87",
      "metadata": {
        "id": "8aPQu4LgCQ87"
      },
      "source": [
        "display the shape and the size of the table"
      ]
    },
    {
      "cell_type": "code",
      "execution_count": 4,
      "id": "fTxdarGACVcn",
      "metadata": {
        "colab": {
          "base_uri": "https://localhost:8080/"
        },
        "id": "fTxdarGACVcn",
        "outputId": "0f1e86c1-91b3-4120-d8ab-69568b374def"
      },
      "outputs": [
        {
          "data": {
            "text/plain": [
              "(609, 9)"
            ]
          },
          "execution_count": 4,
          "metadata": {},
          "output_type": "execute_result"
        }
      ],
      "source": [
        "df.shape"
      ]
    },
    {
      "cell_type": "markdown",
      "id": "Z2DS3iKHCf1j",
      "metadata": {
        "id": "Z2DS3iKHCf1j"
      },
      "source": [
        "size"
      ]
    },
    {
      "cell_type": "code",
      "execution_count": 5,
      "id": "U6hensLvCe3f",
      "metadata": {
        "colab": {
          "base_uri": "https://localhost:8080/"
        },
        "id": "U6hensLvCe3f",
        "outputId": "8dfc37e8-a6db-441f-e494-112660f05e7d"
      },
      "outputs": [
        {
          "data": {
            "text/plain": [
              "5481"
            ]
          },
          "execution_count": 5,
          "metadata": {},
          "output_type": "execute_result"
        }
      ],
      "source": [
        "df.size"
      ]
    },
    {
      "cell_type": "markdown",
      "id": "6bEMlmmCEFKl",
      "metadata": {
        "id": "6bEMlmmCEFKl"
      },
      "source": [
        "pick the price column and choose a random sample of 200 elements then plot the sample"
      ]
    },
    {
      "cell_type": "code",
      "execution_count": 6,
      "id": "U-El88AHEDUC",
      "metadata": {
        "colab": {
          "base_uri": "https://localhost:8080/"
        },
        "id": "U-El88AHEDUC",
        "outputId": "aebc0c24-1504-418c-d016-4dfeb3540f22"
      },
      "outputs": [
        {
          "data": {
            "text/plain": [
              "609"
            ]
          },
          "execution_count": 6,
          "metadata": {},
          "output_type": "execute_result"
        }
      ],
      "source": [
        "price = df['price']\n",
        "len(price)"
      ]
    },
    {
      "cell_type": "code",
      "execution_count": 7,
      "id": "VcX9Ka0xE1_A",
      "metadata": {
        "colab": {
          "base_uri": "https://localhost:8080/"
        },
        "id": "VcX9Ka0xE1_A",
        "outputId": "f757e522-a8cd-44b8-e68e-c9e370626df2"
      },
      "outputs": [
        {
          "data": {
            "text/plain": [
              "0      211.48\n",
              "1      289.99\n",
              "2      337.48\n",
              "3      211.48\n",
              "4      194.99\n",
              "        ...  \n",
              "604    575.99\n",
              "605    564.98\n",
              "606    262.98\n",
              "607    115.49\n",
              "608    960.49\n",
              "Name: price, Length: 609, dtype: float64"
            ]
          },
          "execution_count": 7,
          "metadata": {},
          "output_type": "execute_result"
        }
      ],
      "source": [
        "price"
      ]
    },
    {
      "cell_type": "code",
      "execution_count": 8,
      "id": "J1DJDbdyE8kR",
      "metadata": {
        "colab": {
          "base_uri": "https://localhost:8080/",
          "height": 748
        },
        "id": "J1DJDbdyE8kR",
        "outputId": "12961bc0-c843-455c-b71b-047eb24812d8"
      },
      "outputs": [
        {
          "data": {
            "image/png": "[encoded data removed]",
            "text/plain": [
              "<Figure size 1500x1000 with 1 Axes>"
            ]
          },
          "metadata": {},
          "output_type": "display_data"
        }
      ],
      "source": [
        "sample = price.sample(200)\n",
        "sample.plot.hist(figsize=(15,10));"
      ]
    },
    {
      "cell_type": "markdown",
      "id": "_zqYc1pwHBMc",
      "metadata": {
        "id": "_zqYc1pwHBMc"
      },
      "source": [
        "rating column "
      ]
    },
    {
      "cell_type": "code",
      "execution_count": 9,
      "id": "7MAfzFz3HcJ8",
      "metadata": {
        "colab": {
          "base_uri": "https://localhost:8080/"
        },
        "id": "7MAfzFz3HcJ8",
        "outputId": "019b6283-5080-4883-946e-f7d90a8da096"
      },
      "outputs": [
        {
          "data": {
            "text/plain": [
              "609"
            ]
          },
          "execution_count": 9,
          "metadata": {},
          "output_type": "execute_result"
        }
      ],
      "source": [
        "rating = df['rating']\n",
        "len(rating)"
      ]
    },
    {
      "cell_type": "code",
      "execution_count": 10,
      "id": "Srej7oPEHj6X",
      "metadata": {
        "colab": {
          "base_uri": "https://localhost:8080/"
        },
        "id": "Srej7oPEHj6X",
        "outputId": "cc411f8d-b7f2-491e-de5a-44c5a208d5f9"
      },
      "outputs": [
        {
          "data": {
            "text/plain": [
              "0      100.0\n",
              "1       88.0\n",
              "2        NaN\n",
              "3       80.0\n",
              "4        NaN\n",
              "       ...  \n",
              "604     92.0\n",
              "605     76.0\n",
              "606     94.0\n",
              "607     86.0\n",
              "608      NaN\n",
              "Name: rating, Length: 609, dtype: float64"
            ]
          },
          "execution_count": 10,
          "metadata": {},
          "output_type": "execute_result"
        }
      ],
      "source": [
        "rating"
      ]
    },
    {
      "cell_type": "code",
      "execution_count": 11,
      "id": "c1FbpH6RGx90",
      "metadata": {
        "colab": {
          "base_uri": "https://localhost:8080/",
          "height": 754
        },
        "id": "c1FbpH6RGx90",
        "outputId": "33bb96ed-75f9-4968-9acf-d9679ffc347e"
      },
      "outputs": [
        {
          "data": {
            "image/png": "[encoded data removed]",
            "text/plain": [
              "<Figure size 1500x1000 with 1 Axes>"
            ]
          },
          "metadata": {},
          "output_type": "display_data"
        }
      ],
      "source": [
        "sample = rating.sample(200)\n",
        "sample.plot.hist(figsize=(15,10));"
      ]
    },
    {
      "cell_type": "markdown",
      "id": "U9PR1QM3JgiW",
      "metadata": {
        "id": "U9PR1QM3JgiW"
      },
      "source": [
        "missing values."
      ]
    },
    {
      "cell_type": "code",
      "execution_count": 12,
      "id": "o8QELREBHsYV",
      "metadata": {
        "colab": {
          "base_uri": "https://localhost:8080/"
        },
        "id": "o8QELREBHsYV",
        "outputId": "6734d038-4579-4d66-f768-e5860d65e2af"
      },
      "outputs": [
        {
          "data": {
            "text/plain": [
              "Unnamed: 0                0\n",
              "category                  0\n",
              "product                   0\n",
              "Original_price           26\n",
              "price                     0\n",
              "perc_of_unit_sold        87\n",
              "rating                  182\n",
              "Shipping Eligibility     42\n",
              "gender                   28\n",
              "dtype: int64"
            ]
          },
          "execution_count": 12,
          "metadata": {},
          "output_type": "execute_result"
        }
      ],
      "source": [
        "df.isnull().sum()"
      ]
    },
    {
      "cell_type": "code",
      "execution_count": 13,
      "id": "vfMO5wMLSqRR",
      "metadata": {
        "colab": {
          "base_uri": "https://localhost:8080/",
          "height": 354
        },
        "id": "vfMO5wMLSqRR",
        "outputId": "61ba3d36-0422-4523-ee53-f9128c3600f3"
      },
      "outputs": [
        {
          "data": {
            "text/html": [
              "<div>\n",
              "<style scoped>\n",
              "    .dataframe tbody tr th:only-of-type {\n",
              "        vertical-align: middle;\n",
              "    }\n",
              "\n",
              "    .dataframe tbody tr th {\n",
              "        vertical-align: top;\n",
              "    }\n",
              "\n",
              "    .dataframe thead th {\n",
              "        text-align: right;\n",
              "    }\n",
              "</style>\n",
              "<table border=\"1\" class=\"dataframe\">\n",
              "  <thead>\n",
              "    <tr style=\"text-align: right;\">\n",
              "      <th></th>\n",
              "      <th>Unnamed: 0</th>\n",
              "      <th>category</th>\n",
              "      <th>product</th>\n",
              "      <th>Original_price</th>\n",
              "      <th>price</th>\n",
              "      <th>perc_of_unit_sold</th>\n",
              "      <th>rating</th>\n",
              "      <th>Shipping Eligibility</th>\n",
              "      <th>gender</th>\n",
              "    </tr>\n",
              "  </thead>\n",
              "  <tbody>\n",
              "    <tr>\n",
              "      <th>0</th>\n",
              "      <td>0</td>\n",
              "      <td>Athletic Shoes</td>\n",
              "      <td>Nike SB Check Solar Cnvs Skateboarding Shoes f...</td>\n",
              "      <td>299.0</td>\n",
              "      <td>211.48</td>\n",
              "      <td>94.0</td>\n",
              "      <td>100.0</td>\n",
              "      <td>FREE Shipping</td>\n",
              "      <td>men</td>\n",
              "    </tr>\n",
              "    <tr>\n",
              "      <th>1</th>\n",
              "      <td>1</td>\n",
              "      <td>Athletic Shoes</td>\n",
              "      <td>Nike Md Runner 2 Two-Tone Textile-Mesh Suede-A...</td>\n",
              "      <td>349.0</td>\n",
              "      <td>289.99</td>\n",
              "      <td>80.0</td>\n",
              "      <td>88.0</td>\n",
              "      <td>FREE Shipping</td>\n",
              "      <td>men</td>\n",
              "    </tr>\n",
              "    <tr>\n",
              "      <th>2</th>\n",
              "      <td>2</td>\n",
              "      <td>Athletic Shoes</td>\n",
              "      <td>Nike air Heights Sneaker for Women , Size 38 E...</td>\n",
              "      <td>419.0</td>\n",
              "      <td>337.48</td>\n",
              "      <td>77.0</td>\n",
              "      <td>NaN</td>\n",
              "      <td>FREE Shipping</td>\n",
              "      <td>women</td>\n",
              "    </tr>\n",
              "    <tr>\n",
              "      <th>3</th>\n",
              "      <td>3</td>\n",
              "      <td>Athletic Shoes</td>\n",
              "      <td>Nike Fitness Shoes For Men , 43 EU , Black</td>\n",
              "      <td>319.0</td>\n",
              "      <td>211.48</td>\n",
              "      <td>76.0</td>\n",
              "      <td>80.0</td>\n",
              "      <td>FREE Shipping</td>\n",
              "      <td>men</td>\n",
              "    </tr>\n",
              "    <tr>\n",
              "      <th>4</th>\n",
              "      <td>4</td>\n",
              "      <td>Athletic Shoes</td>\n",
              "      <td>adidas ASWEERUN Sneaker for Mens, Grey - Size ...</td>\n",
              "      <td>259.0</td>\n",
              "      <td>194.99</td>\n",
              "      <td>94.0</td>\n",
              "      <td>NaN</td>\n",
              "      <td>No FREE Shipping</td>\n",
              "      <td>men</td>\n",
              "    </tr>\n",
              "  </tbody>\n",
              "</table>\n",
              "</div>"
            ],
            "text/plain": [
              "   Unnamed: 0        category   \n",
              "0           0  Athletic Shoes  \\\n",
              "1           1  Athletic Shoes   \n",
              "2           2  Athletic Shoes   \n",
              "3           3  Athletic Shoes   \n",
              "4           4  Athletic Shoes   \n",
              "\n",
              "                                             product  Original_price   price   \n",
              "0  Nike SB Check Solar Cnvs Skateboarding Shoes f...           299.0  211.48  \\\n",
              "1  Nike Md Runner 2 Two-Tone Textile-Mesh Suede-A...           349.0  289.99   \n",
              "2  Nike air Heights Sneaker for Women , Size 38 E...           419.0  337.48   \n",
              "3         Nike Fitness Shoes For Men , 43 EU , Black           319.0  211.48   \n",
              "4  adidas ASWEERUN Sneaker for Mens, Grey - Size ...           259.0  194.99   \n",
              "\n",
              "   perc_of_unit_sold  rating Shipping Eligibility gender  \n",
              "0               94.0   100.0        FREE Shipping    men  \n",
              "1               80.0    88.0        FREE Shipping    men  \n",
              "2               77.0     NaN        FREE Shipping  women  \n",
              "3               76.0    80.0        FREE Shipping    men  \n",
              "4               94.0     NaN     No FREE Shipping    men  "
            ]
          },
          "execution_count": 13,
          "metadata": {},
          "output_type": "execute_result"
        }
      ],
      "source": [
        "df.head(5)"
      ]
    },
    {
      "cell_type": "markdown",
      "id": "rRpS2gAxJccz",
      "metadata": {
        "id": "rRpS2gAxJccz"
      },
      "source": [
        "filling the null value."
      ]
    },
    {
      "cell_type": "code",
      "execution_count": 14,
      "id": "mPNrNx2fYP0q",
      "metadata": {
        "colab": {
          "base_uri": "https://localhost:8080/"
        },
        "id": "mPNrNx2fYP0q",
        "outputId": "6ce44b03-7bcd-4832-c90d-0d8aec201153"
      },
      "outputs": [
        {
          "data": {
            "text/plain": [
              "Unnamed: 0                0\n",
              "category                  0\n",
              "product                   0\n",
              "Original_price           26\n",
              "price                     0\n",
              "perc_of_unit_sold        87\n",
              "rating                  182\n",
              "Shipping Eligibility     42\n",
              "gender                   28\n",
              "dtype: int64"
            ]
          },
          "execution_count": 14,
          "metadata": {},
          "output_type": "execute_result"
        }
      ],
      "source": [
        "df.isna().sum()"
      ]
    },
    {
      "cell_type": "code",
      "execution_count": 15,
      "id": "LJCtvl7fY872",
      "metadata": {
        "colab": {
          "base_uri": "https://localhost:8080/"
        },
        "id": "LJCtvl7fY872",
        "outputId": "7d73ce79-bc59-4d01-cf5a-c328a1b91bc8"
      },
      "outputs": [],
      "source": [
        "Median = df['rating'].median()\n",
        "df['rating'].fillna(Median, inplace=True)\n",
        "\n",
        "Median_Of_Original_Price = df['Original_price'].median()\n",
        "df['Original_price'].fillna(Median_Of_Original_Price, inplace=True)\n",
        "\n",
        "Perc_of_unit_sold_Median = df['perc_of_unit_sold'].median()\n",
        "df['perc_of_unit_sold'].fillna(Perc_of_unit_sold_Median, inplace=True)"
      ]
    },
    {
      "cell_type": "code",
      "execution_count": 16,
      "id": "SB5YxvSyaB-P",
      "metadata": {
        "colab": {
          "base_uri": "https://localhost:8080/"
        },
        "id": "SB5YxvSyaB-P",
        "outputId": "8fd684da-68e5-453a-faed-6842e2ed541c"
      },
      "outputs": [
        {
          "data": {
            "text/plain": [
              "Unnamed: 0               0\n",
              "category                 0\n",
              "product                  0\n",
              "Original_price           0\n",
              "price                    0\n",
              "perc_of_unit_sold        0\n",
              "rating                   0\n",
              "Shipping Eligibility    42\n",
              "gender                  28\n",
              "dtype: int64"
            ]
          },
          "execution_count": 16,
          "metadata": {},
          "output_type": "execute_result"
        }
      ],
      "source": [
        "df.isna().sum()"
      ]
    },
    {
      "cell_type": "code",
      "execution_count": 17,
      "id": "mozITXihahBY",
      "metadata": {
        "colab": {
          "base_uri": "https://localhost:8080/",
          "height": 658
        },
        "id": "mozITXihahBY",
        "outputId": "4b6ca092-a154-4d12-9c82-da41e9810eda"
      },
      "outputs": [
        {
          "data": {
            "text/html": [
              "<div>\n",
              "<style scoped>\n",
              "    .dataframe tbody tr th:only-of-type {\n",
              "        vertical-align: middle;\n",
              "    }\n",
              "\n",
              "    .dataframe tbody tr th {\n",
              "        vertical-align: top;\n",
              "    }\n",
              "\n",
              "    .dataframe thead th {\n",
              "        text-align: right;\n",
              "    }\n",
              "</style>\n",
              "<table border=\"1\" class=\"dataframe\">\n",
              "  <thead>\n",
              "    <tr style=\"text-align: right;\">\n",
              "      <th></th>\n",
              "      <th>Unnamed: 0</th>\n",
              "      <th>category</th>\n",
              "      <th>product</th>\n",
              "      <th>Original_price</th>\n",
              "      <th>price</th>\n",
              "      <th>perc_of_unit_sold</th>\n",
              "      <th>rating</th>\n",
              "      <th>Shipping Eligibility</th>\n",
              "      <th>gender</th>\n",
              "    </tr>\n",
              "  </thead>\n",
              "  <tbody>\n",
              "    <tr>\n",
              "      <th>0</th>\n",
              "      <td>0</td>\n",
              "      <td>Athletic Shoes</td>\n",
              "      <td>Nike SB Check Solar Cnvs Skateboarding Shoes f...</td>\n",
              "      <td>299.0</td>\n",
              "      <td>211.48</td>\n",
              "      <td>94.0</td>\n",
              "      <td>100.0</td>\n",
              "      <td>FREE Shipping</td>\n",
              "      <td>men</td>\n",
              "    </tr>\n",
              "    <tr>\n",
              "      <th>1</th>\n",
              "      <td>1</td>\n",
              "      <td>Athletic Shoes</td>\n",
              "      <td>Nike Md Runner 2 Two-Tone Textile-Mesh Suede-A...</td>\n",
              "      <td>349.0</td>\n",
              "      <td>289.99</td>\n",
              "      <td>80.0</td>\n",
              "      <td>88.0</td>\n",
              "      <td>FREE Shipping</td>\n",
              "      <td>men</td>\n",
              "    </tr>\n",
              "    <tr>\n",
              "      <th>2</th>\n",
              "      <td>2</td>\n",
              "      <td>Athletic Shoes</td>\n",
              "      <td>Nike air Heights Sneaker for Women , Size 38 E...</td>\n",
              "      <td>419.0</td>\n",
              "      <td>337.48</td>\n",
              "      <td>77.0</td>\n",
              "      <td>88.0</td>\n",
              "      <td>FREE Shipping</td>\n",
              "      <td>women</td>\n",
              "    </tr>\n",
              "    <tr>\n",
              "      <th>3</th>\n",
              "      <td>3</td>\n",
              "      <td>Athletic Shoes</td>\n",
              "      <td>Nike Fitness Shoes For Men , 43 EU , Black</td>\n",
              "      <td>319.0</td>\n",
              "      <td>211.48</td>\n",
              "      <td>76.0</td>\n",
              "      <td>80.0</td>\n",
              "      <td>FREE Shipping</td>\n",
              "      <td>men</td>\n",
              "    </tr>\n",
              "    <tr>\n",
              "      <th>4</th>\n",
              "      <td>4</td>\n",
              "      <td>Athletic Shoes</td>\n",
              "      <td>adidas ASWEERUN Sneaker for Mens, Grey - Size ...</td>\n",
              "      <td>259.0</td>\n",
              "      <td>194.99</td>\n",
              "      <td>94.0</td>\n",
              "      <td>88.0</td>\n",
              "      <td>No FREE Shipping</td>\n",
              "      <td>men</td>\n",
              "    </tr>\n",
              "    <tr>\n",
              "      <th>...</th>\n",
              "      <td>...</td>\n",
              "      <td>...</td>\n",
              "      <td>...</td>\n",
              "      <td>...</td>\n",
              "      <td>...</td>\n",
              "      <td>...</td>\n",
              "      <td>...</td>\n",
              "      <td>...</td>\n",
              "      <td>...</td>\n",
              "    </tr>\n",
              "    <tr>\n",
              "      <th>604</th>\n",
              "      <td>175</td>\n",
              "      <td>Watches</td>\n",
              "      <td>JBW Delmare Men's 4 Genuine Diamonds Silicone ...</td>\n",
              "      <td>2624.0</td>\n",
              "      <td>575.99</td>\n",
              "      <td>72.0</td>\n",
              "      <td>92.0</td>\n",
              "      <td>FREE Shipping</td>\n",
              "      <td>men</td>\n",
              "    </tr>\n",
              "    <tr>\n",
              "      <th>605</th>\n",
              "      <td>176</td>\n",
              "      <td>Watches</td>\n",
              "      <td>Michael Kors Lexington Women's White Dial Stai...</td>\n",
              "      <td>762.0</td>\n",
              "      <td>564.98</td>\n",
              "      <td>28.0</td>\n",
              "      <td>76.0</td>\n",
              "      <td>FREE Shipping</td>\n",
              "      <td>women</td>\n",
              "    </tr>\n",
              "    <tr>\n",
              "      <th>606</th>\n",
              "      <td>177</td>\n",
              "      <td>Watches</td>\n",
              "      <td>Puma Casual Watch For Men Analog Stainless Ste...</td>\n",
              "      <td>679.0</td>\n",
              "      <td>262.98</td>\n",
              "      <td>67.0</td>\n",
              "      <td>94.0</td>\n",
              "      <td>FREE Shipping</td>\n",
              "      <td>men</td>\n",
              "    </tr>\n",
              "    <tr>\n",
              "      <th>607</th>\n",
              "      <td>178</td>\n",
              "      <td>Watches</td>\n",
              "      <td>T5 Watch For Men [Rubber,Chronograph]-H3397G-B</td>\n",
              "      <td>440.0</td>\n",
              "      <td>115.49</td>\n",
              "      <td>40.0</td>\n",
              "      <td>86.0</td>\n",
              "      <td>No FREE Shipping</td>\n",
              "      <td>men</td>\n",
              "    </tr>\n",
              "    <tr>\n",
              "      <th>608</th>\n",
              "      <td>179</td>\n",
              "      <td>Watches</td>\n",
              "      <td>Tissot Dress Watch For Women Analog Stainless ...</td>\n",
              "      <td>1740.0</td>\n",
              "      <td>960.49</td>\n",
              "      <td>20.0</td>\n",
              "      <td>88.0</td>\n",
              "      <td>FREE Shipping</td>\n",
              "      <td>women</td>\n",
              "    </tr>\n",
              "  </tbody>\n",
              "</table>\n",
              "<p>609 rows × 9 columns</p>\n",
              "</div>"
            ],
            "text/plain": [
              "     Unnamed: 0        category   \n",
              "0             0  Athletic Shoes  \\\n",
              "1             1  Athletic Shoes   \n",
              "2             2  Athletic Shoes   \n",
              "3             3  Athletic Shoes   \n",
              "4             4  Athletic Shoes   \n",
              "..          ...             ...   \n",
              "604         175         Watches   \n",
              "605         176         Watches   \n",
              "606         177         Watches   \n",
              "607         178         Watches   \n",
              "608         179         Watches   \n",
              "\n",
              "                                               product  Original_price   \n",
              "0    Nike SB Check Solar Cnvs Skateboarding Shoes f...           299.0  \\\n",
              "1    Nike Md Runner 2 Two-Tone Textile-Mesh Suede-A...           349.0   \n",
              "2    Nike air Heights Sneaker for Women , Size 38 E...           419.0   \n",
              "3           Nike Fitness Shoes For Men , 43 EU , Black           319.0   \n",
              "4    adidas ASWEERUN Sneaker for Mens, Grey - Size ...           259.0   \n",
              "..                                                 ...             ...   \n",
              "604  JBW Delmare Men's 4 Genuine Diamonds Silicone ...          2624.0   \n",
              "605  Michael Kors Lexington Women's White Dial Stai...           762.0   \n",
              "606  Puma Casual Watch For Men Analog Stainless Ste...           679.0   \n",
              "607     T5 Watch For Men [Rubber,Chronograph]-H3397G-B           440.0   \n",
              "608  Tissot Dress Watch For Women Analog Stainless ...          1740.0   \n",
              "\n",
              "      price  perc_of_unit_sold  rating Shipping Eligibility gender  \n",
              "0    211.48               94.0   100.0        FREE Shipping    men  \n",
              "1    289.99               80.0    88.0        FREE Shipping    men  \n",
              "2    337.48               77.0    88.0        FREE Shipping  women  \n",
              "3    211.48               76.0    80.0        FREE Shipping    men  \n",
              "4    194.99               94.0    88.0     No FREE Shipping    men  \n",
              "..      ...                ...     ...                  ...    ...  \n",
              "604  575.99               72.0    92.0        FREE Shipping    men  \n",
              "605  564.98               28.0    76.0        FREE Shipping  women  \n",
              "606  262.98               67.0    94.0        FREE Shipping    men  \n",
              "607  115.49               40.0    86.0     No FREE Shipping    men  \n",
              "608  960.49               20.0    88.0        FREE Shipping  women  \n",
              "\n",
              "[609 rows x 9 columns]"
            ]
          },
          "execution_count": 17,
          "metadata": {},
          "output_type": "execute_result"
        }
      ],
      "source": [
        "df['gender'].fillna(value='Unisex',inplace=True)\n",
        "df"
      ]
    },
    {
      "cell_type": "code",
      "execution_count": 18,
      "id": "-E9XqZXccyFY",
      "metadata": {
        "colab": {
          "base_uri": "https://localhost:8080/"
        },
        "id": "-E9XqZXccyFY",
        "outputId": "69d8d79c-879d-4629-c004-090a2ca5b172"
      },
      "outputs": [
        {
          "data": {
            "text/plain": [
              "Unnamed: 0               0\n",
              "category                 0\n",
              "product                  0\n",
              "Original_price           0\n",
              "price                    0\n",
              "perc_of_unit_sold        0\n",
              "rating                   0\n",
              "Shipping Eligibility    42\n",
              "gender                   0\n",
              "dtype: int64"
            ]
          },
          "execution_count": 18,
          "metadata": {},
          "output_type": "execute_result"
        }
      ],
      "source": [
        "df.isna().sum()"
      ]
    },
    {
      "cell_type": "code",
      "execution_count": 19,
      "id": "5gDT7oYedbNs",
      "metadata": {
        "id": "5gDT7oYedbNs"
      },
      "outputs": [],
      "source": [
        "df.dropna(inplace=True)"
      ]
    },
    {
      "cell_type": "code",
      "execution_count": 20,
      "id": "0ROvL8IzdzA5",
      "metadata": {
        "colab": {
          "base_uri": "https://localhost:8080/"
        },
        "id": "0ROvL8IzdzA5",
        "outputId": "eb8ab868-816e-4a98-e255-206fc916bd0d"
      },
      "outputs": [
        {
          "data": {
            "text/plain": [
              "Unnamed: 0              0\n",
              "category                0\n",
              "product                 0\n",
              "Original_price          0\n",
              "price                   0\n",
              "perc_of_unit_sold       0\n",
              "rating                  0\n",
              "Shipping Eligibility    0\n",
              "gender                  0\n",
              "dtype: int64"
            ]
          },
          "execution_count": 20,
          "metadata": {},
          "output_type": "execute_result"
        }
      ],
      "source": [
        "df.isna().sum()"
      ]
    },
    {
      "attachments": {},
      "cell_type": "markdown",
      "id": "e973185a",
      "metadata": {},
      "source": [
        "### Check Duplicates"
      ]
    },
    {
      "cell_type": "code",
      "execution_count": 21,
      "id": "O5Rs8hNOhPuf",
      "metadata": {
        "colab": {
          "base_uri": "https://localhost:8080/"
        },
        "id": "O5Rs8hNOhPuf",
        "outputId": "7c1ee0e5-4d90-4ea0-ba69-211edf38520e"
      },
      "outputs": [
        {
          "name": "stdout",
          "output_type": "stream",
          "text": [
            "Number of duplicate rows: 0\n",
            "Duplicate rows:\n",
            "Empty DataFrame\n",
            "Columns: [Unnamed: 0, category, product, Original_price, price, perc_of_unit_sold, rating, Shipping Eligibility, gender]\n",
            "Index: []\n"
          ]
        }
      ],
      "source": [
        "duplicate_rows = df[df.duplicated()]\n",
        "print(\"Number of duplicate rows:\", duplicate_rows.shape[0])\n",
        "print(\"Duplicate rows:\") \n",
        "print(duplicate_rows)"
      ]
    },
    {
      "cell_type": "code",
      "execution_count": 22,
      "id": "RVoNB6tg8JAB",
      "metadata": {
        "colab": {
          "base_uri": "https://localhost:8080/",
          "height": 597
        },
        "id": "RVoNB6tg8JAB",
        "outputId": "915c3c4f-a8c3-4a5f-d003-bae92a2c124e"
      },
      "outputs": [
        {
          "data": {
            "image/png": "[encoded data removed]",
            "text/plain": [
              "<Figure size 640x480 with 1 Axes>"
            ]
          },
          "metadata": {},
          "output_type": "display_data"
        }
      ],
      "source": [
        "sb.countplot(data = df, x = 'category', hue = 'gender')\n",
        "plt.xticks(rotation=90);"
      ]
    },
    {
      "cell_type": "code",
      "execution_count": 23,
      "id": "OAhUu3Ye9Kb1",
      "metadata": {
        "colab": {
          "base_uri": "https://localhost:8080/",
          "height": 450
        },
        "id": "OAhUu3Ye9Kb1",
        "outputId": "0cd35f43-afc9-427a-dbb9-1c984a2fb7c7"
      },
      "outputs": [
        {
          "data": {
            "image/png": "[encoded data removed]",
            "text/plain": [
              "<Figure size 640x480 with 1 Axes>"
            ]
          },
          "metadata": {},
          "output_type": "display_data"
        }
      ],
      "source": [
        "x = df['gender'].value_counts(sort=False).index\n",
        "\n",
        "y = df['gender'].value_counts(sort=False)\n",
        "\n",
        "plt.bar(x, y)\n",
        "\n",
        "plt.xlabel('gender')\n",
        "plt.ylabel('count')\n",
        "\n",
        "plt.show()"
      ]
    },
    {
      "attachments": {},
      "cell_type": "markdown",
      "id": "6f31b878",
      "metadata": {},
      "source": [
        "### Checking for Incorrect Data in Rating"
      ]
    },
    {
      "cell_type": "code",
      "execution_count": 24,
      "id": "s9rHlWRyi-gp",
      "metadata": {
        "colab": {
          "base_uri": "https://localhost:8080/"
        },
        "id": "s9rHlWRyi-gp",
        "outputId": "f2633a60-2d97-4154-af67-f1775778eba1"
      },
      "outputs": [
        {
          "name": "stdout",
          "output_type": "stream",
          "text": [
            "Nothing above 100\n"
          ]
        }
      ],
      "source": [
        "if any(df['rating'] > 100):\n",
        "  print(\"There is a value above 100\")\n",
        "else:\n",
        "  print(\"Nothing above 100\")"
      ]
    },
    {
      "attachments": {},
      "cell_type": "markdown",
      "id": "c55e317a",
      "metadata": {},
      "source": [
        "# Clustering"
      ]
    },
    {
      "cell_type": "code",
      "execution_count": 25,
      "id": "1645e3d2",
      "metadata": {},
      "outputs": [
        {
          "data": {
            "text/plain": [
              "0         FREE Shipping\n",
              "1         FREE Shipping\n",
              "2         FREE Shipping\n",
              "3         FREE Shipping\n",
              "4      No FREE Shipping\n",
              "             ...       \n",
              "604       FREE Shipping\n",
              "605       FREE Shipping\n",
              "606       FREE Shipping\n",
              "607    No FREE Shipping\n",
              "608       FREE Shipping\n",
              "Name: Shipping Eligibility, Length: 567, dtype: object"
            ]
          },
          "execution_count": 25,
          "metadata": {},
          "output_type": "execute_result"
        }
      ],
      "source": [
        "df['Shipping Eligibility']"
      ]
    },
    {
      "cell_type": "code",
      "execution_count": 26,
      "id": "8fe45f65",
      "metadata": {},
      "outputs": [],
      "source": [
        "import pandas as pd\n",
        "import numpy as np\n",
        "from sklearn.cluster import KMeans\n",
        "from sklearn.preprocessing import StandardScaler\n",
        "import matplotlib.pyplot as plt\n",
        "import seaborn as sns"
      ]
    },
    {
      "cell_type": "code",
      "execution_count": 27,
      "id": "97498284",
      "metadata": {},
      "outputs": [
        {
          "name": "stderr",
          "output_type": "stream",
          "text": [
            "C:\\Users\\moham\\AppData\\Local\\Packages\\PythonSoftwareFoundation.Python.3.11_qbz5n2kfra8p0\\LocalCache\\local-packages\\Python311\\site-packages\\sklearn\\cluster\\_kmeans.py:870: FutureWarning: The default value of `n_init` will change from 10 to 'auto' in 1.4. Set the value of `n_init` explicitly to suppress the warning\n",
            "  warnings.warn(\n",
            "C:\\Users\\moham\\AppData\\Local\\Packages\\PythonSoftwareFoundation.Python.3.11_qbz5n2kfra8p0\\LocalCache\\local-packages\\Python311\\site-packages\\sklearn\\cluster\\_kmeans.py:870: FutureWarning: The default value of `n_init` will change from 10 to 'auto' in 1.4. Set the value of `n_init` explicitly to suppress the warning\n",
            "  warnings.warn(\n",
            "C:\\Users\\moham\\AppData\\Local\\Packages\\PythonSoftwareFoundation.Python.3.11_qbz5n2kfra8p0\\LocalCache\\local-packages\\Python311\\site-packages\\sklearn\\cluster\\_kmeans.py:870: FutureWarning: The default value of `n_init` will change from 10 to 'auto' in 1.4. Set the value of `n_init` explicitly to suppress the warning\n",
            "  warnings.warn(\n",
            "C:\\Users\\moham\\AppData\\Local\\Packages\\PythonSoftwareFoundation.Python.3.11_qbz5n2kfra8p0\\LocalCache\\local-packages\\Python311\\site-packages\\sklearn\\cluster\\_kmeans.py:870: FutureWarning: The default value of `n_init` will change from 10 to 'auto' in 1.4. Set the value of `n_init` explicitly to suppress the warning\n",
            "  warnings.warn(\n",
            "C:\\Users\\moham\\AppData\\Local\\Packages\\PythonSoftwareFoundation.Python.3.11_qbz5n2kfra8p0\\LocalCache\\local-packages\\Python311\\site-packages\\sklearn\\cluster\\_kmeans.py:870: FutureWarning: The default value of `n_init` will change from 10 to 'auto' in 1.4. Set the value of `n_init` explicitly to suppress the warning\n",
            "  warnings.warn(\n",
            "C:\\Users\\moham\\AppData\\Local\\Packages\\PythonSoftwareFoundation.Python.3.11_qbz5n2kfra8p0\\LocalCache\\local-packages\\Python311\\site-packages\\sklearn\\cluster\\_kmeans.py:870: FutureWarning: The default value of `n_init` will change from 10 to 'auto' in 1.4. Set the value of `n_init` explicitly to suppress the warning\n",
            "  warnings.warn(\n",
            "C:\\Users\\moham\\AppData\\Local\\Packages\\PythonSoftwareFoundation.Python.3.11_qbz5n2kfra8p0\\LocalCache\\local-packages\\Python311\\site-packages\\sklearn\\cluster\\_kmeans.py:870: FutureWarning: The default value of `n_init` will change from 10 to 'auto' in 1.4. Set the value of `n_init` explicitly to suppress the warning\n",
            "  warnings.warn(\n",
            "C:\\Users\\moham\\AppData\\Local\\Packages\\PythonSoftwareFoundation.Python.3.11_qbz5n2kfra8p0\\LocalCache\\local-packages\\Python311\\site-packages\\sklearn\\cluster\\_kmeans.py:870: FutureWarning: The default value of `n_init` will change from 10 to 'auto' in 1.4. Set the value of `n_init` explicitly to suppress the warning\n",
            "  warnings.warn(\n",
            "C:\\Users\\moham\\AppData\\Local\\Packages\\PythonSoftwareFoundation.Python.3.11_qbz5n2kfra8p0\\LocalCache\\local-packages\\Python311\\site-packages\\sklearn\\cluster\\_kmeans.py:870: FutureWarning: The default value of `n_init` will change from 10 to 'auto' in 1.4. Set the value of `n_init` explicitly to suppress the warning\n",
            "  warnings.warn(\n",
            "C:\\Users\\moham\\AppData\\Local\\Packages\\PythonSoftwareFoundation.Python.3.11_qbz5n2kfra8p0\\LocalCache\\local-packages\\Python311\\site-packages\\sklearn\\cluster\\_kmeans.py:870: FutureWarning: The default value of `n_init` will change from 10 to 'auto' in 1.4. Set the value of `n_init` explicitly to suppress the warning\n",
            "  warnings.warn(\n"
          ]
        },
        {
          "data": {
            "image/png": "[encoded data removed]",
            "text/plain": [
              "<Figure size 640x480 with 1 Axes>"
            ]
          },
          "metadata": {},
          "output_type": "display_data"
        },
        {
          "name": "stderr",
          "output_type": "stream",
          "text": [
            "C:\\Users\\moham\\AppData\\Local\\Packages\\PythonSoftwareFoundation.Python.3.11_qbz5n2kfra8p0\\LocalCache\\local-packages\\Python311\\site-packages\\sklearn\\cluster\\_kmeans.py:870: FutureWarning: The default value of `n_init` will change from 10 to 'auto' in 1.4. Set the value of `n_init` explicitly to suppress the warning\n",
            "  warnings.warn(\n"
          ]
        },
        {
          "data": {
            "text/plain": [
              "<Axes: xlabel='price', ylabel='perc_of_unit_sold'>"
            ]
          },
          "execution_count": 27,
          "metadata": {},
          "output_type": "execute_result"
        },
        {
          "data": {
            "image/png": "[encoded data removed]",
            "text/plain": [
              "<Figure size 640x480 with 1 Axes>"
            ]
          },
          "metadata": {},
          "output_type": "display_data"
        }
      ],
      "source": [
        "# Select the features to be used in clustering\n",
        "X = df[['Original_price', 'price', 'perc_of_unit_sold', 'rating']]\n",
        "\n",
        "# X = df[['Shipping Eligibility','price']]\n",
        "\n",
        "# Scale the features\n",
        "scaler = StandardScaler()\n",
        "X_scaled = scaler.fit_transform(X)\n",
        "\n",
        "# Determine the optimal number of clusters using the elbow method\n",
        "wcss = []\n",
        "for i in range(1, 11):\n",
        "    kmeans = KMeans(n_clusters=i, init='k-means++', random_state=42)\n",
        "    kmeans.fit(X_scaled)\n",
        "    wcss.append(kmeans.inertia_)\n",
        "plt.plot(range(1, 11), wcss)\n",
        "plt.title('Elbow Method')\n",
        "plt.xlabel('Number of clusters')\n",
        "plt.ylabel('WCSS')\n",
        "plt.show()\n",
        "\n",
        "# Perform k-means clustering\n",
        "kmeans = KMeans(n_clusters=4, init='k-means++', random_state=42)\n",
        "y_kmeans = kmeans.fit_predict(X_scaled)\n",
        "\n",
        "# Add the cluster labels to the DataFrame\n",
        "df['Cluster'] = y_kmeans\n",
        "\n",
        "# Visualize the clusters\n",
        "sns.scatterplot(x='price', y='perc_of_unit_sold', hue='Cluster', data=df)\n"
      ]
    },
    {
      "cell_type": "code",
      "execution_count": 28,
      "id": "5759cc08",
      "metadata": {},
      "outputs": [
        {
          "data": {
            "text/plain": [
              "<Axes: xlabel='Original_price', ylabel='rating'>"
            ]
          },
          "execution_count": 28,
          "metadata": {},
          "output_type": "execute_result"
        },
        {
          "data": {
            "image/png": "[encoded data removed]",
            "text/plain": [
              "<Figure size 640x480 with 1 Axes>"
            ]
          },
          "metadata": {},
          "output_type": "display_data"
        }
      ],
      "source": [
        "sns.scatterplot(x='Original_price', y='rating', hue='Cluster', data=df)"
      ]
    },
    {
      "cell_type": "code",
      "execution_count": 29,
      "id": "62fc5c1b",
      "metadata": {},
      "outputs": [
        {
          "data": {
            "text/html": [
              "<div>\n",
              "<style scoped>\n",
              "    .dataframe tbody tr th:only-of-type {\n",
              "        vertical-align: middle;\n",
              "    }\n",
              "\n",
              "    .dataframe tbody tr th {\n",
              "        vertical-align: top;\n",
              "    }\n",
              "\n",
              "    .dataframe thead th {\n",
              "        text-align: right;\n",
              "    }\n",
              "</style>\n",
              "<table border=\"1\" class=\"dataframe\">\n",
              "  <thead>\n",
              "    <tr style=\"text-align: right;\">\n",
              "      <th></th>\n",
              "      <th>Unnamed: 0</th>\n",
              "      <th>category</th>\n",
              "      <th>product</th>\n",
              "      <th>Original_price</th>\n",
              "      <th>price</th>\n",
              "      <th>perc_of_unit_sold</th>\n",
              "      <th>rating</th>\n",
              "      <th>Shipping Eligibility</th>\n",
              "      <th>gender</th>\n",
              "      <th>Cluster</th>\n",
              "    </tr>\n",
              "  </thead>\n",
              "  <tbody>\n",
              "    <tr>\n",
              "      <th>0</th>\n",
              "      <td>0</td>\n",
              "      <td>Athletic Shoes</td>\n",
              "      <td>Nike SB Check Solar Cnvs Skateboarding Shoes f...</td>\n",
              "      <td>299.0</td>\n",
              "      <td>211.48</td>\n",
              "      <td>94.0</td>\n",
              "      <td>100.0</td>\n",
              "      <td>FREE Shipping</td>\n",
              "      <td>men</td>\n",
              "      <td>1</td>\n",
              "    </tr>\n",
              "    <tr>\n",
              "      <th>1</th>\n",
              "      <td>1</td>\n",
              "      <td>Athletic Shoes</td>\n",
              "      <td>Nike Md Runner 2 Two-Tone Textile-Mesh Suede-A...</td>\n",
              "      <td>349.0</td>\n",
              "      <td>289.99</td>\n",
              "      <td>80.0</td>\n",
              "      <td>88.0</td>\n",
              "      <td>FREE Shipping</td>\n",
              "      <td>men</td>\n",
              "      <td>1</td>\n",
              "    </tr>\n",
              "    <tr>\n",
              "      <th>2</th>\n",
              "      <td>2</td>\n",
              "      <td>Athletic Shoes</td>\n",
              "      <td>Nike air Heights Sneaker for Women , Size 38 E...</td>\n",
              "      <td>419.0</td>\n",
              "      <td>337.48</td>\n",
              "      <td>77.0</td>\n",
              "      <td>88.0</td>\n",
              "      <td>FREE Shipping</td>\n",
              "      <td>women</td>\n",
              "      <td>1</td>\n",
              "    </tr>\n",
              "    <tr>\n",
              "      <th>3</th>\n",
              "      <td>3</td>\n",
              "      <td>Athletic Shoes</td>\n",
              "      <td>Nike Fitness Shoes For Men , 43 EU , Black</td>\n",
              "      <td>319.0</td>\n",
              "      <td>211.48</td>\n",
              "      <td>76.0</td>\n",
              "      <td>80.0</td>\n",
              "      <td>FREE Shipping</td>\n",
              "      <td>men</td>\n",
              "      <td>1</td>\n",
              "    </tr>\n",
              "    <tr>\n",
              "      <th>4</th>\n",
              "      <td>4</td>\n",
              "      <td>Athletic Shoes</td>\n",
              "      <td>adidas ASWEERUN Sneaker for Mens, Grey - Size ...</td>\n",
              "      <td>259.0</td>\n",
              "      <td>194.99</td>\n",
              "      <td>94.0</td>\n",
              "      <td>88.0</td>\n",
              "      <td>No FREE Shipping</td>\n",
              "      <td>men</td>\n",
              "      <td>1</td>\n",
              "    </tr>\n",
              "    <tr>\n",
              "      <th>...</th>\n",
              "      <td>...</td>\n",
              "      <td>...</td>\n",
              "      <td>...</td>\n",
              "      <td>...</td>\n",
              "      <td>...</td>\n",
              "      <td>...</td>\n",
              "      <td>...</td>\n",
              "      <td>...</td>\n",
              "      <td>...</td>\n",
              "      <td>...</td>\n",
              "    </tr>\n",
              "    <tr>\n",
              "      <th>604</th>\n",
              "      <td>175</td>\n",
              "      <td>Watches</td>\n",
              "      <td>JBW Delmare Men's 4 Genuine Diamonds Silicone ...</td>\n",
              "      <td>2624.0</td>\n",
              "      <td>575.99</td>\n",
              "      <td>72.0</td>\n",
              "      <td>92.0</td>\n",
              "      <td>FREE Shipping</td>\n",
              "      <td>men</td>\n",
              "      <td>0</td>\n",
              "    </tr>\n",
              "    <tr>\n",
              "      <th>605</th>\n",
              "      <td>176</td>\n",
              "      <td>Watches</td>\n",
              "      <td>Michael Kors Lexington Women's White Dial Stai...</td>\n",
              "      <td>762.0</td>\n",
              "      <td>564.98</td>\n",
              "      <td>28.0</td>\n",
              "      <td>76.0</td>\n",
              "      <td>FREE Shipping</td>\n",
              "      <td>women</td>\n",
              "      <td>2</td>\n",
              "    </tr>\n",
              "    <tr>\n",
              "      <th>606</th>\n",
              "      <td>177</td>\n",
              "      <td>Watches</td>\n",
              "      <td>Puma Casual Watch For Men Analog Stainless Ste...</td>\n",
              "      <td>679.0</td>\n",
              "      <td>262.98</td>\n",
              "      <td>67.0</td>\n",
              "      <td>94.0</td>\n",
              "      <td>FREE Shipping</td>\n",
              "      <td>men</td>\n",
              "      <td>1</td>\n",
              "    </tr>\n",
              "    <tr>\n",
              "      <th>607</th>\n",
              "      <td>178</td>\n",
              "      <td>Watches</td>\n",
              "      <td>T5 Watch For Men [Rubber,Chronograph]-H3397G-B</td>\n",
              "      <td>440.0</td>\n",
              "      <td>115.49</td>\n",
              "      <td>40.0</td>\n",
              "      <td>86.0</td>\n",
              "      <td>No FREE Shipping</td>\n",
              "      <td>men</td>\n",
              "      <td>2</td>\n",
              "    </tr>\n",
              "    <tr>\n",
              "      <th>608</th>\n",
              "      <td>179</td>\n",
              "      <td>Watches</td>\n",
              "      <td>Tissot Dress Watch For Women Analog Stainless ...</td>\n",
              "      <td>1740.0</td>\n",
              "      <td>960.49</td>\n",
              "      <td>20.0</td>\n",
              "      <td>88.0</td>\n",
              "      <td>FREE Shipping</td>\n",
              "      <td>women</td>\n",
              "      <td>0</td>\n",
              "    </tr>\n",
              "  </tbody>\n",
              "</table>\n",
              "<p>567 rows × 10 columns</p>\n",
              "</div>"
            ],
            "text/plain": [
              "     Unnamed: 0        category   \n",
              "0             0  Athletic Shoes  \\\n",
              "1             1  Athletic Shoes   \n",
              "2             2  Athletic Shoes   \n",
              "3             3  Athletic Shoes   \n",
              "4             4  Athletic Shoes   \n",
              "..          ...             ...   \n",
              "604         175         Watches   \n",
              "605         176         Watches   \n",
              "606         177         Watches   \n",
              "607         178         Watches   \n",
              "608         179         Watches   \n",
              "\n",
              "                                               product  Original_price   \n",
              "0    Nike SB Check Solar Cnvs Skateboarding Shoes f...           299.0  \\\n",
              "1    Nike Md Runner 2 Two-Tone Textile-Mesh Suede-A...           349.0   \n",
              "2    Nike air Heights Sneaker for Women , Size 38 E...           419.0   \n",
              "3           Nike Fitness Shoes For Men , 43 EU , Black           319.0   \n",
              "4    adidas ASWEERUN Sneaker for Mens, Grey - Size ...           259.0   \n",
              "..                                                 ...             ...   \n",
              "604  JBW Delmare Men's 4 Genuine Diamonds Silicone ...          2624.0   \n",
              "605  Michael Kors Lexington Women's White Dial Stai...           762.0   \n",
              "606  Puma Casual Watch For Men Analog Stainless Ste...           679.0   \n",
              "607     T5 Watch For Men [Rubber,Chronograph]-H3397G-B           440.0   \n",
              "608  Tissot Dress Watch For Women Analog Stainless ...          1740.0   \n",
              "\n",
              "      price  perc_of_unit_sold  rating Shipping Eligibility gender  Cluster  \n",
              "0    211.48               94.0   100.0        FREE Shipping    men        1  \n",
              "1    289.99               80.0    88.0        FREE Shipping    men        1  \n",
              "2    337.48               77.0    88.0        FREE Shipping  women        1  \n",
              "3    211.48               76.0    80.0        FREE Shipping    men        1  \n",
              "4    194.99               94.0    88.0     No FREE Shipping    men        1  \n",
              "..      ...                ...     ...                  ...    ...      ...  \n",
              "604  575.99               72.0    92.0        FREE Shipping    men        0  \n",
              "605  564.98               28.0    76.0        FREE Shipping  women        2  \n",
              "606  262.98               67.0    94.0        FREE Shipping    men        1  \n",
              "607  115.49               40.0    86.0     No FREE Shipping    men        2  \n",
              "608  960.49               20.0    88.0        FREE Shipping  women        0  \n",
              "\n",
              "[567 rows x 10 columns]"
            ]
          },
          "execution_count": 29,
          "metadata": {},
          "output_type": "execute_result"
        }
      ],
      "source": [
        "df"
      ]
    },
    {
      "cell_type": "code",
      "execution_count": 30,
      "id": "2dd579f2",
      "metadata": {},
      "outputs": [
        {
          "name": "stdout",
          "output_type": "stream",
          "text": [
            "Unnamed: 0                int64\n",
            "category                 object\n",
            "product                  object\n",
            "Original_price          float64\n",
            "price                   float64\n",
            "perc_of_unit_sold       float64\n",
            "rating                  float64\n",
            "Shipping Eligibility     object\n",
            "gender                   object\n",
            "Cluster                   int32\n",
            "dtype: object\n"
          ]
        }
      ],
      "source": [
        "print(df.dtypes)"
      ]
    },
    {
      "attachments": {},
      "cell_type": "markdown",
      "id": "fb4fd3e5",
      "metadata": {},
      "source": [
        "# Encoding"
      ]
    },
    {
      "cell_type": "code",
      "execution_count": 31,
      "id": "42855b4a",
      "metadata": {},
      "outputs": [],
      "source": [
        "from sklearn.preprocessing import LabelEncoder\n",
        "\n",
        "le = LabelEncoder()\n",
        "df['category'] = le.fit_transform(df['category'])"
      ]
    },
    {
      "cell_type": "code",
      "execution_count": 32,
      "id": "f9e168d3",
      "metadata": {},
      "outputs": [
        {
          "name": "stdout",
          "output_type": "stream",
          "text": [
            "               price     rating\n",
            "Cluster                        \n",
            "0         682.570240  90.304000\n",
            "1         206.714257  89.581081\n",
            "2         261.129586  82.951724\n",
            "3        2115.490000  72.000000\n"
          ]
        }
      ],
      "source": [
        "# exclude non-numeric columns\n",
        "numeric_cols = ['price', 'rating']\n",
        "cluster_stats = df[numeric_cols + ['Cluster']].groupby('Cluster').mean()\n",
        "\n",
        "print(cluster_stats)\n"
      ]
    },
    {
      "cell_type": "code",
      "execution_count": 33,
      "id": "1ea5c729",
      "metadata": {},
      "outputs": [
        {
          "name": "stdout",
          "output_type": "stream",
          "text": [
            "Cluster\n",
            "0    85321.28\n",
            "1    61187.42\n",
            "2    37863.79\n",
            "3     2115.49\n",
            "Name: price, dtype: float64\n"
          ]
        }
      ],
      "source": [
        "revenue_by_cluster = df.groupby('Cluster')['price'].sum()\n",
        "print(revenue_by_cluster)"
      ]
    },
    {
      "cell_type": "code",
      "execution_count": 34,
      "id": "c335e6a0",
      "metadata": {},
      "outputs": [],
      "source": [
        "# Import the LabelEncoder class from the sklearn library\n",
        "from sklearn.preprocessing import LabelEncoder\n",
        "\n",
        "# Create a LabelEncoder object\n",
        "label_encoder = LabelEncoder()\n",
        "\n",
        "# Encode the 'Shipping Eligibility' column\n",
        "df['Shipping Eligibility'] = label_encoder.fit_transform(df['Shipping Eligibility'])\n",
        "\n",
        "# Encode the 'gender' column\n",
        "df['gender'] = label_encoder.fit_transform(df['gender'])\n",
        "\n",
        "# Encode the 'category' column\n",
        "df['category'] = label_encoder.fit_transform(df['category'])\n",
        "\n",
        "# Encode the 'product' column\n",
        "df['product'] = label_encoder.fit_transform(df['product'])\n"
      ]
    },
    {
      "cell_type": "code",
      "execution_count": 35,
      "id": "7048da31",
      "metadata": {},
      "outputs": [
        {
          "name": "stdout",
          "output_type": "stream",
          "text": [
            "         Unnamed: 0  category     product  Original_price        price   \n",
            "Cluster                                                                  \n",
            "0         80.464000  4.440000  265.264000     1656.626400   682.570240  \\\n",
            "1         50.236486  2.439189  270.260135      460.837838   206.714257   \n",
            "2         57.779310  2.910345  310.386207      540.809655   261.129586   \n",
            "3         66.000000  6.000000  223.000000    29970.000000  2115.490000   \n",
            "\n",
            "         perc_of_unit_sold     rating  Shipping Eligibility    gender  \n",
            "Cluster                                                                \n",
            "0                53.544000  90.304000              0.000000  1.088000  \n",
            "1                72.216216  89.581081              0.510135  1.097973  \n",
            "2                31.234483  82.951724              0.413793  0.958621  \n",
            "3                98.000000  72.000000              0.000000  1.000000  \n"
          ]
        }
      ],
      "source": [
        "import pandas as pd\n",
        "\n",
        "# Assuming your data is in a DataFrame called 'df'\n",
        "cluster_means = df.groupby('Cluster').mean()\n",
        "\n",
        "# Print the result\n",
        "print(cluster_means)"
      ]
    }
  ],
  "metadata": {
    "colab": {
      "provenance": []
    },
    "kernelspec": {
      "display_name": "base",
      "language": "python",
      "name": "python3"
    },
    "language_info": {
      "codemirror_mode": {
        "name": "ipython",
        "version": 3
      },
      "file_extension": ".py",
      "mimetype": "text/x-python",
      "name": "python",
      "nbconvert_exporter": "python",
      "pygments_lexer": "ipython3",
      "version": "3.11.3"
    },
    "vscode": {
      "interpreter": {
        "hash": "1a7b8347aa5bf5fbdc77fb09cbd2537e1e573a0ff64c2788c6fd27495243cc71"
      }
    }
  },
  "nbformat": 4,
  "nbformat_minor": 5
}
